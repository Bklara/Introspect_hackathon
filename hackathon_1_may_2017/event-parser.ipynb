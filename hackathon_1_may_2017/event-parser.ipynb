{
 "cells": [
  {
   "cell_type": "code",
   "execution_count": 102,
   "metadata": {
    "collapsed": true
   },
   "outputs": [],
   "source": [
    "from urllib.parse import urlparse\n",
    "import requests\n",
    "import scrapy"
   ]
  },
  {
   "cell_type": "code",
   "execution_count": 92,
   "metadata": {
    "collapsed": true
   },
   "outputs": [],
   "source": [
    "def postprocess_event_json(event_json):\n",
    "    for k, v in event_json.items():\n",
    "        if isinstance(v, list):\n",
    "            v = '\\n'.join(v)\n",
    "        v = v.replace('\\xa0', ' ').replace('\\u200b', '')\n",
    "        event_json[k] = v.strip()\n",
    "    return event_json\n",
    "\n",
    "def get_event_json(url):\n",
    "    url_parts = urlparse(url)\n",
    "    host = url_parts.netloc\n",
    "    page = requests.get(url, headers={'User-Agent': 'Mozilla/5.0 (X11; Ubuntu; Linux x86_64; rv:53.0) Gecko/20100101 Firefox/53.0'})\n",
    "    dom = scrapy.Selector(text=page.content)\n",
    "    if host == 'www.facebook.com':\n",
    "        title = dom.css('#seo_h1_tag ::text').extract_first()\n",
    "        datetime = dom.css('#event_summary').extract()\n",
    "        json = {\n",
    "            'title': title,\n",
    "            'datatime': 'unheard',\n",
    "            'location': 'na kudykinoy gore',\n",
    "            'source': 'facebook'\n",
    "        }\n",
    "    if host == 'events.yandex.ru':\n",
    "        json = {\n",
    "            'title': dom.css('h2.title ::text').extract_first(),\n",
    "            'datetime': dom.css('.event-header__when ::text').extract_first(),\n",
    "            'location': (dom.css('.event-header__place ::text').extract_first() or 'Unknown City') + ' Яндекс',\n",
    "            'source': url,\n",
    "            'decription': dom.css('.b-static-text ::text').extract()\n",
    "        }\n",
    "    if host == 'www.meetup.com':\n",
    "        json = {\n",
    "            'title': dom.css('.pageHead-headline ::text').extract_first(),\n",
    "            'datetime': ' '.join([s.strip() for s in dom.css('.eventTimeDisplay time ::text').extract() if s != ' ']),\n",
    "            'location': ' '.join(dom.css('.venueDisplay ::text').extract()),\n",
    "            'source': url,\n",
    "            'decription': dom.css('.event-description ::text').extract()\n",
    "        }\n",
    "    if host.endswith('timepad.ru'):\n",
    "        json = {\n",
    "            'title': dom.css('.ep-3-hero__subtitle ::text').extract_first().strip(),\n",
    "            'datetime': dom.css('.ep3-pagesummary__time-begin span ::text').extract_first(),\n",
    "            'location': dom.css('.ep3-pagesummary__place-city ::text').extract_first().strip() + ', ' + dom.css('.ep3-pagesummary__place-adress span ::text').extract_first().strip(),\n",
    "            'source': url,\n",
    "            'description': dom.css('.ep3-content .clearfix p ::text').extract()\n",
    "        }\n",
    "    \n",
    "    json = postprocess_event_json(json)\n",
    "    return json"
   ]
  },
  {
   "cell_type": "code",
   "execution_count": 103,
   "metadata": {
    "scrolled": false
   },
   "outputs": [
    {
     "name": "stdout",
     "output_type": "stream",
     "text": [
      "url: https://events.yandex.ru/events/yac/29-may-2018/\n",
      "datetime: OK\n",
      "description: SKIP\n",
      "location: OK\n",
      "source: OK\n",
      "title: OK\n",
      "\n",
      "url: https://www.meetup.com/PyData-Moscow/events/240661336/\n",
      "title: OK\n",
      "datetime: OK\n",
      "location: OK\n",
      "source: OK\n",
      "description: SKIP\n",
      "\n",
      "url: https://sdsj.timepad.ru/event/603431/\n",
      "title: OK\n",
      "datetime: OK\n",
      "location: OK\n",
      "source: OK\n",
      "description: SKIP\n",
      "\n",
      "url: https://www.facebook.com/events/1727074767621344/\n",
      "\n"
     ]
    }
   ],
   "source": [
    "def get_events_markup():\n",
    "    events_markup = {\n",
    "      \"https://events.yandex.ru/events/yac/29-may-2018/\": {\n",
    "        'datetime': '29 мая, 08:30',\n",
    "        'description': '',\n",
    "        'location': 'Unknown City Яндекс',\n",
    "        'source': 'https://events.yandex.ru/events/yac/29-may-2018/',\n",
    "        'title': 'Yet another Conference 2018'\n",
    "      },\n",
    "      \"https://www.meetup.com/PyData-Moscow/events/240661336/\": {\n",
    "        'title': 'Третий PyData Meetup',\n",
    "        'datetime': 'Friday, June 23, 2017 6:30 PM to 9:30 PM',\n",
    "        'location': 'Yandex ул. Льва Толстого, 16  ·  Moscow',\n",
    "        'source': 'https://www.meetup.com/PyData-Moscow/events/240661336/',\n",
    "        'description': '',\n",
    "      },\n",
    "      \"https://sdsj.timepad.ru/event/603431/\": {\n",
    "        \"title\": \"Sberbank Data Science Day 2017\",\n",
    "        \"datetime\": \"11 ноября 2017 c 9:30 до 22:00\",\n",
    "        \"location\": \"Москва, ш. Энтузиастов, 5\",\n",
    "        \"source\": \"https://sdsj.timepad.ru/event/603431/\",\n",
    "        \"description\": ''\n",
    "      },\n",
    "      \"https://www.facebook.com/events/1727074767621344/\": {\n",
    "\n",
    "      }\n",
    "    }\n",
    "    return events_markup\n",
    "\n",
    "def test_get_event_json():\n",
    "    events_markup = get_events_markup()\n",
    "        \n",
    "    for url, markup_dict in events_markup.items():\n",
    "        print('url: %s' % url)\n",
    "        event_dict = get_event_json(url)\n",
    "        for k, markup_v in markup_dict.items():\n",
    "            print('%s: ' % k, end='')\n",
    "            event_v = event_dict.get(k, 'NONE')\n",
    "            if event_v == markup_v:\n",
    "                print('OK')\n",
    "            elif k in ('description'):\n",
    "                print('SKIP')\n",
    "            else:\n",
    "                print('ERROR:\\n%s\\n----- should be -----\\n%s' % (event_v, markup_v))\n",
    "        print()\n",
    "\n",
    "test_get_event_json()"
   ]
  }
 ],
 "metadata": {
  "kernelspec": {
   "display_name": "Python 3",
   "language": "python",
   "name": "python3"
  },
  "language_info": {
   "codemirror_mode": {
    "name": "ipython",
    "version": 3
   },
   "file_extension": ".py",
   "mimetype": "text/x-python",
   "name": "python",
   "nbconvert_exporter": "python",
   "pygments_lexer": "ipython3",
   "version": "3.6.4"
  }
 },
 "nbformat": 4,
 "nbformat_minor": 2
}
