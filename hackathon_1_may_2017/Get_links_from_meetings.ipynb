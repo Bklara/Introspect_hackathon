{
 "cells": [
  {
   "cell_type": "code",
   "execution_count": 2,
   "metadata": {
    "collapsed": true
   },
   "outputs": [],
   "source": [
    "from slack_data_loader import SlackLoader\n",
    "import datetime\n",
    "import pandas as pd\n",
    "import numpy as np\n",
    "import re"
   ]
  },
  {
   "cell_type": "code",
   "execution_count": 3,
   "metadata": {
    "collapsed": true
   },
   "outputs": [],
   "source": [
    "path_to_dump = '/Users/alex/Documents/ODS/opendatascience Slack export May 20 2017/'"
   ]
  },
  {
   "cell_type": "code",
   "execution_count": 4,
   "metadata": {},
   "outputs": [
    {
     "name": "stderr",
     "output_type": "stream",
     "text": [
      "100%|██████████| 728/728 [00:00<00:00, 1909.51it/s]\n"
     ]
    }
   ],
   "source": [
    "exporter = SlackLoader(path_to_dump, only_channels=('_meetings',),\n",
    "                           start_date=datetime.datetime(2017, 1, 1))"
   ]
  },
  {
   "cell_type": "code",
   "execution_count": 5,
   "metadata": {
    "collapsed": true
   },
   "outputs": [],
   "source": [
    "channel_attrs = ['id', 'name', 'created', 'creator', 'is_archived', 'is_general', 'pins', 'topic']\n",
    "\n",
    "def channels_to_df(channels):\n",
    "    full_list = []\n",
    "    for ch_id, ch_dict in channels.items():\n",
    "        new_channel_dict = {}\n",
    "        for k in channel_attrs:\n",
    "            new_channel_dict[k] = ch_dict.get(k, None)\n",
    "        new_channel_dict['num_members'] = len(ch_dict['members'])\n",
    "        new_channel_dict['purpose'] = ch_dict['purpose']['value']\n",
    "        full_list.append(new_channel_dict)\n",
    "    return pd.DataFrame(full_list).set_index('id')\n"
   ]
  },
  {
   "cell_type": "code",
   "execution_count": 6,
   "metadata": {
    "collapsed": true
   },
   "outputs": [],
   "source": [
    "df = channels_to_df(exporter.channels)"
   ]
  },
  {
   "cell_type": "code",
   "execution_count": 17,
   "metadata": {},
   "outputs": [
    {
     "data": {
      "text/plain": [
       "'26 декабря в ИППИ был семинар про NIPS-2016 и прогресс в машобуче. Занять место в первых рядах не успел, поэтому пришлось записывать видео с последних и дрожащими руками. Звук более-менее слышно, а слайды, наверное, сами участники смогут предоставить <https://www.youtube.com/watch?v=vFY2rez41_g>'"
      ]
     },
     "execution_count": 17,
     "metadata": {},
     "output_type": "execute_result"
    }
   ],
   "source": [
    "exporter.messages[0]['text']"
   ]
  },
  {
   "cell_type": "code",
   "execution_count": 31,
   "metadata": {
    "collapsed": true
   },
   "outputs": [],
   "source": [
    "links_regex = re.compile(r'<(http[^>|]+)>')"
   ]
  },
  {
   "cell_type": "code",
   "execution_count": 23,
   "metadata": {
    "collapsed": true
   },
   "outputs": [],
   "source": [
    "from operator import itemgetter, add\n",
    "from functools import reduce"
   ]
  },
  {
   "cell_type": "code",
   "execution_count": null,
   "metadata": {
    "collapsed": true
   },
   "outputs": [],
   "source": []
  },
  {
   "cell_type": "code",
   "execution_count": 32,
   "metadata": {},
   "outputs": [],
   "source": [
    "links_total = reduce(add, map(links_regex.findall, map(itemgetter('text'),exporter.messages)))"
   ]
  },
  {
   "cell_type": "code",
   "execution_count": 33,
   "metadata": {},
   "outputs": [
    {
     "data": {
      "text/plain": [
       "['https://www.youtube.com/watch?v=vFY2rez41_g',\n",
       " 'https://www.youtube.com/watch?v=Jh3D8Gi4N0I',\n",
       " 'http://www.nebotut.ru/',\n",
       " 'http://www.belylist.ru/',\n",
       " 'https://daily.afisha.ru/eating/3902-samyy-pyanyy-okrug-v-mire-5-marshrutov-dlya-barhoppinga-v-prazdniki/',\n",
       " 'http://anticafe-hp.ru/',\n",
       " 'http://tceh.com/event/kiwicom-brno-moscow-python-meetup/',\n",
       " 'https://corp.mail.ru/ru/press/events/298/',\n",
       " 'https://www.youtube.com/watch?v=1sQijC_I0gg',\n",
       " 'https://corp.mail.ru/ru/press/events/300/',\n",
       " 'https://opendatascience.slack.com/archives/_meetings/p1484385943000910',\n",
       " 'http://www.oreilly.com/pub/e/3855',\n",
       " 'https://www.facebook.com/events/1292384680807838/',\n",
       " 'https://vc.ru/p/statsbot-deal',\n",
       " 'http://venturebeat.com/2016/11/14/visa-lawyer-bot-pledges-to-help-immigrants-make-america-great-again/',\n",
       " 'http://dpllab.com/',\n",
       " 'https://events.yandex.ru/events/ds/04/#place',\n",
       " 'https://events.yandex.ru/events/mltr/21-jan-2017/',\n",
       " 'https://opendatascience.slack.com/archives/_meetings/p1472564367000042',\n",
       " 'https://events.yandex.ru/events/b-konf/16-feb-2017/',\n",
       " 'https://vk.com/wall-117459195_196',\n",
       " 'https://boosters.pro/sberbank',\n",
       " 'https://pp.vk.me/c637626/v637626651/2b2c6/IYnue7kT5oM.jpg',\n",
       " 'https://events.yandex.ru/surveys/4316/',\n",
       " 'https://www.meetup.com/PyData-Moscow/',\n",
       " 'https://geektimes.ru/company/mailru/blog/285026/',\n",
       " 'https://robotics.timepad.ru/event/429057/',\n",
       " 'https://openvisconf.com/',\n",
       " 'https://events.yandex.ru/events/meetings/09-february-2017/',\n",
       " 'https://ai-community.timepad.ru/event/432990/',\n",
       " 'https://flyelephant.net/events/webinar-introduction-to-singularity',\n",
       " 'http://singularity.lbl.gov/',\n",
       " 'https://events.yandex.ru/events/meetings/09-february-2017/register/',\n",
       " 'https://www.meetup.com/PyData-Moscow/events/237579800/',\n",
       " 'https://corp.mail.ru/ru/press/events/315/',\n",
       " 'http://tceh.com/medhack/',\n",
       " 'http://lurkmore.to/%D0%91%D0%BE%D0%B1%D1%83%D0%BA',\n",
       " 'http://medit-2017.ru/',\n",
       " 'https://vk.com/wall-118482811_48',\n",
       " 'http://Instagram.com/playittodeath',\n",
       " 'http://www.info-space.ru/',\n",
       " 'https://events.yandex.ru/surveys/4453/',\n",
       " 'https://goo.gl/forms/4d7p46wsbLtni2Ot1',\n",
       " 'http://www.mathnet.ru/php/seminars.phtml?option_lang=rus&amp;presentid=16449',\n",
       " 'https://habrahabr.ru/company/superjob/blog/321950/',\n",
       " 'https://www.meetup.com/Moscow-Data-Science/',\n",
       " 'https://opendatascience.slack.com/archives/_random_flood/p1487253931038865',\n",
       " 'https://events.yandex.ru/events/mltr/25-feb-2017/',\n",
       " 'https://newprolab.timepad.ru/event/447417/',\n",
       " 'http://wwsss17.com/',\n",
       " 'https://vk.com/wwsss17',\n",
       " 'https://cs.hse.ru/announcements/202188811.html',\n",
       " 'https://events.yandex.ru/events/ds/18-mar-2017/',\n",
       " 'http://pydata.org/amsterdam2017/',\n",
       " 'http://hackathon.spb.ru/',\n",
       " 'https://corp.mail.ru/ru/press/events/323/',\n",
       " 'https://goo.gl/forms/kNIPf1df1KQnEZz72',\n",
       " 'https://events.kaspersky.com/hackathon/',\n",
       " 'http://hackathon.ai/',\n",
       " 'https://events.yandex.ru/surveys/4527/',\n",
       " 'https://opendatascience.slack.com/archives/_meetings/p1488168000003088',\n",
       " 'https://robotics.timepad.ru/event/399682/',\n",
       " 'http://sk.ru/foundation/events/april2017/robotics/p/classes.aspx',\n",
       " 'https://www.instagram.com/p/BRKxeHGgMmH/',\n",
       " 'https://opendatascience.slack.com/archives/_meetings/p1488530583003484',\n",
       " 'https://events.yandex.ru/events/mltr/11-mar-2017/',\n",
       " 'https://habrahabr.ru/company/mailru/blog/322432/',\n",
       " 'http://hackathon.mts.ru',\n",
       " 'http://hackathon.mts.ru/images/picTeam/t3.png',\n",
       " 'http://rb.ru/rosbank/',\n",
       " 'https://docs.google.com/forms/d/e/1FAIpQLSfDH9IWJHAUEkeb5rXGpwvea24Nd4VV2LZBQ42xhgrgws_YpQ/viewform?c=0&amp;w=1',\n",
       " 'https://vc.ru/p/9578',\n",
       " 'https://www.youtube.com/watch?v=E62S4QNltLc',\n",
       " 'https://www.youtube.com/watch?v=fhZXqTGsunw',\n",
       " 'https://goo.gl/forms/83hiODGnTzjwxJkY2',\n",
       " 'https://events.yandex.ru/events/mltr/11-mar-2017/',\n",
       " 'https://goo.gl/forms/8AAipXJCQvqc6WHC2',\n",
       " 'https://flyelephant.net/events/webinar-julia',\n",
       " 'https://habrahabr.ru/company/flyelephant/blog/323840/',\n",
       " 'http://imgur.com/ogIQN0i',\n",
       " 'https://www.youtube.com/channel/UC91wUxUQ_uWznIo04dpXo3A',\n",
       " 'http://i.imgur.com/QQSFllR.jpg',\n",
       " 'https://vk.com/wall-142135418_5',\n",
       " 'http://www.datascience.in.ua/',\n",
       " 'https://sys.mail.ru/blog/entry/shemotehnika-08-pro-kartograf/',\n",
       " 'https://www.youtube.com/watch?v=DlK_37MVOvY',\n",
       " 'http://msk.opendataday.ru/',\n",
       " 'https://events.yandex.ru/events/mltr/25-mar-2017/',\n",
       " 'https://events.yandex.ru/events/meetings/3-april-2017/',\n",
       " 'https://www.youtube.com/playlist?list=PLkvzAel8ISD39_e1_jIhhWnSltFNOdTwZ',\n",
       " 'https://flyelephant.net/events/webinar-julia-live',\n",
       " 'https://chatbotconf.ru/ru',\n",
       " 'https://twitter.com/rsalakhu/status/846045079487832066?s=09',\n",
       " 'https://events.yandex.ru/events/ds/15-apr-2017/',\n",
       " 'https://goo.gl/forms/d4hPTIHClEkzchgu1',\n",
       " 'https://www.youtube.com/channel/UCBLlcLoM4czHN21yeaWxGZA',\n",
       " 'http://ospcon.osp.ru/bigdata',\n",
       " 'https://www.facebook.com/events/828239720648373',\n",
       " 'http://cs403922.userapi.com/v403922807/3ea2/z7rffcCbvm8.jpg',\n",
       " 'https://knowledgepit.fedcsis.org/contest/view.php?id=120',\n",
       " 'https://events.yandex.ru/surveys/4685/',\n",
       " 'https://yandex.ru/maps/-/CZcsM8YJ',\n",
       " 'https://events.kaspersky.com/hackathon/',\n",
       " 'https://events.webinar.ru/1904081/345927',\n",
       " 'https://events.yandex.ru/events/mltr/08-apr-2017/',\n",
       " 'https://rambler-co-e-org.timepad.ru/event/470664/',\n",
       " 'https://www.meetup.com/Apache-Spark-in-Moscow/events/past/?scroll=true',\n",
       " 'http://ai-community.com/events/ai-community/4-global-ai-meetup-computer-vision-technologies-06/04',\n",
       " 'https://opendatascience.slack.com/archives/C04422A5C/p1490684902916746',\n",
       " 'https://events.yandex.ru/events/meetings/13-apr-2017/',\n",
       " 'https://academy.yandex.ru/events/sci-sem/cv/',\n",
       " 'https://clickhouse.yandex/presentations/meetup4/clickhouse_for_analysts.pdf',\n",
       " 'http://matlab.ru/seminars/conf2017',\n",
       " 'http://meetu.ps/e/CGvgm/sYfx1/d',\n",
       " 'https://ladiescode.timepad.ru/event/471400/',\n",
       " 'http://data-science.com.ua/conferences/data-science-ua-conference-2017/',\n",
       " 'https://www.facebook.com/events/168767966965411/',\n",
       " 'http://datafest.in.ua',\n",
       " 'https://events.yandex.ru/events/science-seminars/24-april-2017/',\n",
       " 'http://grammars.grlmc.com/DeepLearn2017/',\n",
       " 'https://sites.google.com/site/emotiw2016/',\n",
       " 'https://youtu.be/oPDbUIWND_k',\n",
       " 'http://lifecode.site/?utm_source=newsletter&amp;utm_medium=genehack&amp;utm_campaign=13apr',\n",
       " 'http://datafest.by/',\n",
       " 'https://it.mail.ru/video/',\n",
       " 'http://spacehack.xyz/',\n",
       " 'https://www.youtube.com/watch?v=F1QvOJcxAzw',\n",
       " 'https://moscowdjango.timepad.ru/event/468277/',\n",
       " 'https://events.yandex.ru/events/mltr/22-apr-2017/',\n",
       " 'https://domclick.timepad.ru/event/476750/',\n",
       " 'https://vk.com/wall-44016343_14912?w=wall-138127986_121',\n",
       " 'https://goo.gl/forms/g8tB0MRUMXWVgpCh2',\n",
       " 'https://goo.gl/forms/mL4eHnLEIbVfUFQb2',\n",
       " 'http://xn--90aihcg1anaka9m.xn--p1ai',\n",
       " 'http://xn--80abdlnldpssn.xn--p1ai',\n",
       " 'https://docs.google.com/document/d/1jwDGxd50NbzAuCcz60ct6Kr1rMQkB-8Q3EIAf_RX-mU/edit?usp=drivesdk',\n",
       " 'https://habrahabr.ru/company/microsoft/blog/326812/',\n",
       " 'http://spacehack.xyz',\n",
       " 'https://www.meetup.com/GDG-Moscow/events/239324673/',\n",
       " 'http://datascience.in.ua',\n",
       " 'https://www.facebook.com/photo.php?fbid=10212499098569921&amp;set=a.10200648969644104.1073741825.1156281111&amp;type=3&amp;theater',\n",
       " 'https://events.webinar.ru/2442095/395929',\n",
       " 'http://dataring.ru/competitions/avito-recommendations/',\n",
       " 'https://events.yandex.ru/events/mltr/22-apr-2017/',\n",
       " 'https://www.meetup.com/PyData-Moscow/events/239404221/',\n",
       " 'https://goo.gl/forms/mL4eHnLEIbVfUFQb2',\n",
       " 'https://www.meetup.com/PyData-Moscow/events/239404221/',\n",
       " 'https://corp.mail.ru/ru/press/events/341/',\n",
       " 'https://www.youtube.com/channel/UCBLlcLoM4czHN21yeaWxGZA',\n",
       " 'http://spacehack.xyz/',\n",
       " 'http://dmlabs.org/spacehack.jpg',\n",
       " 'https://bigquery.cloud.google.com/dataset/fh-bigquery:reddit_comments',\n",
       " 'https://events.yandex.ru/events/ds/20-may-2017/',\n",
       " 'https://aisummit2017.ru/',\n",
       " 'https://www.s7.ru/home/offers/hackathon/index.dot',\n",
       " 'http://spa2017.org',\n",
       " 'http://www.pdmi.ras.ru/EIMI/2017/CNSA/index.html',\n",
       " 'http://www.pdmi.ras.ru/EIMI/2017/PTRP/index.html',\n",
       " 'http://dmery.ing.puc.cl/index.php/material/gdxray/',\n",
       " 'https://www.dropbox.com/sh/aym7wgup7m2c5hh/AACFjjmmozhWKFmRyzM0S0KYa?dl=0',\n",
       " 'https://fom-events.timepad.ru/event/485547/',\n",
       " 'https://events.yandex.ru/events/ds/27-apr-2017/',\n",
       " 'http://ritfest.ru/',\n",
       " 'https://pages.awscloud.com/awsomedaymoscow2017registration.html',\n",
       " 'http://machinescansee.com/',\n",
       " 'https://www.youtube.com/watch?v=WhM3Vvz37a0',\n",
       " 'http://www.mobiledimension.ru/confmay.php',\n",
       " 'http://events.softline.ru/event/10902/',\n",
       " 'https://www.youtube.com/watch?v=ZBwxRww_EYo',\n",
       " 'https://goo.gl/forms/qJ8JQsOfqzpxkN5m2',\n",
       " 'https://www.youtube.com/watch?v=rE3Y9eCfN8E',\n",
       " 'http://geodata.pro',\n",
       " 'https://robotics.timepad.ru/event/492985/',\n",
       " 'https://goo.gl/forms/qJ8JQsOfqzpxkN5m2',\n",
       " 'https://cs.hse.ru/datacase/pravoru',\n",
       " 'https://youtu.be/IFG9IBI2NoM',\n",
       " 'https://www.facebook.com/events/455274888147623/',\n",
       " 'http://talks.sourced.tech/machine-learning-2017/',\n",
       " 'https://domclick.timepad.ru/event/476750/',\n",
       " 'http://www.moscowpython.ru/meetup/45/',\n",
       " 'http://machinescansee.com/',\n",
       " 'http://it-events.com',\n",
       " 'https://corp.mail.ru/ru/press/events/347/',\n",
       " 'https://youtu.be/eixlC8K8GIg']"
      ]
     },
     "execution_count": 33,
     "metadata": {},
     "output_type": "execute_result"
    }
   ],
   "source": [
    "links_total"
   ]
  },
  {
   "cell_type": "code",
   "execution_count": null,
   "metadata": {
    "collapsed": true
   },
   "outputs": [],
   "source": []
  }
 ],
 "metadata": {
  "kernelspec": {
   "display_name": "Python 3",
   "language": "python",
   "name": "python3"
  },
  "language_info": {
   "codemirror_mode": {
    "name": "ipython",
    "version": 3
   },
   "file_extension": ".py",
   "mimetype": "text/x-python",
   "name": "python",
   "nbconvert_exporter": "python",
   "pygments_lexer": "ipython3",
   "version": "3.6.1"
  }
 },
 "nbformat": 4,
 "nbformat_minor": 2
}
