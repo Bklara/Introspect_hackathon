{
 "cells": [
  {
   "cell_type": "code",
   "execution_count": 1,
   "metadata": {
    "collapsed": true
   },
   "outputs": [],
   "source": [
    "import asyncio\n",
    "from aioes import Elasticsearch"
   ]
  },
  {
   "cell_type": "code",
   "execution_count": 53,
   "metadata": {
    "collapsed": true
   },
   "outputs": [],
   "source": [
    "es = Elasticsearch(['localhost:9200'])"
   ]
  },
  {
   "cell_type": "code",
   "execution_count": 110,
   "metadata": {
    "collapsed": true
   },
   "outputs": [],
   "source": [
    "def gen_synonyms():\n",
    "    \"\"\"\n",
    "    Generate some synonyms in a file. All words separated by comma are treated as equal\n",
    "    \"\"\"\n",
    "    with open(\"synonyms.txt\", \"w\") as syns:\n",
    "        syns.write(\"xboost, эксгебуст, эксбуст, иксгебуст, xgboost\\n\")\n",
    "        syns.write(\"пыха, пыху, пых, php\\n\")\n",
    "        syns.write(\"lol, лол\\n\")\n",
    "        syns.write(\"питон, python\\n\")"
   ]
  },
  {
   "cell_type": "code",
   "execution_count": 105,
   "metadata": {},
   "outputs": [],
   "source": [
    "index_body = {\n",
    "    \"settings\": {\n",
    "        \"analysis\": {\n",
    "          \"filter\": {\n",
    "            \"russian_stop\": {\n",
    "              \"type\":       \"stop\",\n",
    "              \"stopwords\":  \"_russian_\" \n",
    "            },\n",
    "            \"russian_stemmer\": {\n",
    "              \"type\":       \"stemmer\",\n",
    "              \"language\":   \"russian\"\n",
    "            },\n",
    "            \"synonyms_expand\": {\n",
    "              \"type\": \"synonym\", \n",
    "              # path to synonym file.\n",
    "              # for ES to be able to read it, security policy should be set as described here:\n",
    "              # https://stackoverflow.com/questions/35401917/reading-a-file-in-an-elasticsearch-plugin\n",
    "              \"synonyms_path\": \"/Users/enchantner/Experiments/synonyms.txt\"\n",
    "            }\n",
    "          },\n",
    "          \"analyzer\": {\n",
    "            \"russian_syn\": {\n",
    "              \"tokenizer\":  \"standard\",\n",
    "              \"filter\": [\n",
    "                \"lowercase\",\n",
    "                \"russian_stop\",\n",
    "                \"russian_stemmer\",\n",
    "                \"synonyms_expand\"\n",
    "              ]\n",
    "            }\n",
    "          }\n",
    "        }\n",
    "    },\n",
    "    \"mappings\":{  \n",
    "        \"question\":{  \n",
    "          \"properties\":{  \n",
    "            \"text\":{\"type\":\"string\", \"analyzer\":\"russian_syn\"}\n",
    "          }\n",
    "        }\n",
    "    }\n",
    "}\n",
    "\n",
    "async def create_index():\n",
    "    ret = await es.indices.create(\n",
    "        index=\"questions-index\",\n",
    "        body=index_body\n",
    "    )\n",
    "    print(ret)\n",
    "    \n",
    "    \n",
    "async def delete_index():\n",
    "    ret = await es.delete(\n",
    "        index=\"questions-index\"\n",
    "    )\n",
    "    print(ret)\n",
    "    \n",
    "async def openclose():\n",
    "    \"\"\"\n",
    "    Closing and opening index again reloads synomyms file\n",
    "    \"\"\"\n",
    "    await es.indices.close(index=\"questions-index\")\n",
    "    await es.indices.open(index=\"questions-index\")\n",
    "    \n",
    "async def populate_index():\n",
    "    await es.index(\n",
    "        index=\"questions-index\",\n",
    "        doc_type=\"question\",\n",
    "        body={\n",
    "            \"text\": \"А что мне рассказать про иксгебуст?\"\n",
    "        }\n",
    "    )\n",
    "    await es.index(\n",
    "        index=\"questions-index\",\n",
    "        doc_type=\"question\",\n",
    "        body={\n",
    "            \"text\": \"Я ненавижу PHP, что мне делать?\"\n",
    "        }\n",
    "    )\n",
    "    await es.index(\n",
    "        index=\"questions-index\",\n",
    "        doc_type=\"question\",\n",
    "        body={\n",
    "            \"text\": \"Я люблю питон, что мне делать?\"\n",
    "        }\n",
    "    )"
   ]
  },
  {
   "cell_type": "code",
   "execution_count": 103,
   "metadata": {},
   "outputs": [
    {
     "name": "stdout",
     "output_type": "stream",
     "text": [
      "{'acknowledged': True}\n",
      "{'acknowledged': True, 'shards_acknowledged': True}\n"
     ]
    }
   ],
   "source": [
    "loop = asyncio.get_event_loop()\n",
    "loop.run_until_complete(delete_index())\n",
    "loop.run_until_complete(create_index())\n",
    "loop.run_until_complete(populate_index())"
   ]
  },
  {
   "cell_type": "code",
   "execution_count": 111,
   "metadata": {},
   "outputs": [],
   "source": [
    "# reload synonims without recreating the whole database\n",
    "gen_synonyms()\n",
    "loop.run_until_complete(openclose())"
   ]
  },
  {
   "cell_type": "code",
   "execution_count": null,
   "metadata": {
    "collapsed": true
   },
   "outputs": [],
   "source": []
  }
 ],
 "metadata": {
  "kernelspec": {
   "display_name": "Python 3",
   "language": "python",
   "name": "python3"
  },
  "language_info": {
   "codemirror_mode": {
    "name": "ipython",
    "version": 3
   },
   "file_extension": ".py",
   "mimetype": "text/x-python",
   "name": "python",
   "nbconvert_exporter": "python",
   "pygments_lexer": "ipython3",
   "version": "3.6.0"
  }
 },
 "nbformat": 4,
 "nbformat_minor": 2
}
