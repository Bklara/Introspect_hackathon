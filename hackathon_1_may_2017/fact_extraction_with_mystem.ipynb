{
 "cells": [
  {
   "cell_type": "code",
   "execution_count": 1,
   "metadata": {
    "collapsed": true
   },
   "outputs": [],
   "source": [
    "import json\n",
    "import glob\n",
    "import os\n",
    "import datetime\n",
    "import re\n",
    "import pandas as pd\n",
    "from slack_data_loader import SlackLoader\n"
   ]
  },
  {
   "cell_type": "code",
   "execution_count": 2,
   "metadata": {
    "collapsed": true
   },
   "outputs": [],
   "source": [
    "data_folder = '/Users/alex/Documents/ODS/opendatascience Slack export May 20 2017/'\n",
    "ods = SlackLoader(data_folder,only_channels=('welcome',))"
   ]
  },
  {
   "cell_type": "code",
   "execution_count": 3,
   "metadata": {},
   "outputs": [
    {
     "data": {
      "text/plain": [
       "type\n",
       "message    3992\n",
       "Name: dt, dtype: int64"
      ]
     },
     "execution_count": 3,
     "metadata": {},
     "output_type": "execute_result"
    }
   ],
   "source": [
    "df_msg = pd.DataFrame.from_records(ods.messages)\n",
    "df_msg.fillna(0).groupby(['type'])['dt'].count()"
   ]
  },
  {
   "cell_type": "code",
   "execution_count": 6,
   "metadata": {},
   "outputs": [
    {
     "name": "stdout",
     "output_type": "stream",
     "text": [
      "как пример хорошего :smiley:\n"
     ]
    }
   ],
   "source": [
    "print(df_msg.text[4])"
   ]
  },
  {
   "cell_type": "markdown",
   "metadata": {},
   "source": [
    "Вытащим сообщения-представления"
   ]
  },
  {
   "cell_type": "code",
   "execution_count": 2,
   "metadata": {},
   "outputs": [],
   "source": [
    "df_msg.head()"
   ]
  },
  {
   "cell_type": "code",
   "execution_count": 8,
   "metadata": {
    "collapsed": true
   },
   "outputs": [],
   "source": [
    "k = 0\n",
    "hi_messages = []\n",
    "hi_tokens=('все', 'привет','добр','шалом','салют','здрав','хай','я','ребят','коллег')\n",
    "for _, i in df_msg.iterrows():\n",
    "    if i.text.lower().startswith(hi_tokens) and len(i.text) > 100:\n",
    "        k+=1\n",
    "        hi_messages.append(i.text)"
   ]
  },
  {
   "cell_type": "code",
   "execution_count": 1,
   "metadata": {},
   "outputs": [],
   "source": [
    "for i in hi_messages[-10:]:\n",
    "    print(i)\n",
    "    print('='*80)"
   ]
  },
  {
   "cell_type": "code",
   "execution_count": 11,
   "metadata": {},
   "outputs": [
    {
     "name": "stderr",
     "output_type": "stream",
     "text": [
      "Installing mystem to /Users/alex/.local/bin/mystem from http://download.cdn.yandex.net/mystem/mystem-3.0-macosx10.8.tar.gz\n"
     ]
    }
   ],
   "source": [
    "from pymystem3 import Mystem\n",
    "mystem = Mystem()\n",
    "# Installing mystem to /home/dmchk/.local/bin/mystem from http://download.cdn.yandex.net/mystem/mystem-3.0-linux3.1-64bit.tar.gz\n",
    "# Экземпляр класса Mystem предоставляет метод lemmatize, вызывающий mystem с соответствующими параметрами."
   ]
  },
  {
   "cell_type": "code",
   "execution_count": 12,
   "metadata": {},
   "outputs": [
    {
     "name": "stdout",
     "output_type": "stream",
     "text": [
      "как насчет небольшой стемминг\n",
      "\n"
     ]
    }
   ],
   "source": [
    "text = 'Как насчёт небольшого стемминга'\n",
    "lemmas = mystem.lemmatize(text)\n",
    "print(''.join(lemmas))"
   ]
  },
  {
   "cell_type": "code",
   "execution_count": 16,
   "metadata": {
    "collapsed": true
   },
   "outputs": [],
   "source": [
    "from random import  choice"
   ]
  },
  {
   "cell_type": "code",
   "execution_count": 32,
   "metadata": {
    "collapsed": true
   },
   "outputs": [],
   "source": [
    "import matplotlib.pyplot as plt"
   ]
  },
  {
   "cell_type": "code",
   "execution_count": 68,
   "metadata": {
    "collapsed": true
   },
   "outputs": [],
   "source": [
    "from IPython.display import HTML"
   ]
  },
  {
   "cell_type": "code",
   "execution_count": 37,
   "metadata": {
    "collapsed": true
   },
   "outputs": [],
   "source": [
    "import numpy as np"
   ]
  },
  {
   "cell_type": "code",
   "execution_count": 75,
   "metadata": {
    "collapsed": true
   },
   "outputs": [],
   "source": [
    "def get_n_colors_on_colormap(n):\n",
    "    cmap = plt.cm.get_cmap('jet')\n",
    "    # cmap = matplotlib.cm.get_cmap('Spectral')\n",
    "    rg = np.linspace(0.3,1.0,n)\n",
    "    cols = np.asarray(np.floor(255*cmap(rg)),dtype=int)\n",
    "    get_color_hash = lambda x: '#%02x%02x%02x' % tuple(x.tolist())\n",
    "    return list(map(get_color_hash, cols[:,:3]))"
   ]
  },
  {
   "cell_type": "code",
   "execution_count": 87,
   "metadata": {
    "collapsed": true
   },
   "outputs": [],
   "source": [
    "tags = ('S','SPRO','V','ADVPRO','A','PR','ADV','APRO','CONJ', 'NUM', 'ANUM', 'PART')\n",
    "tags_to_color_mapping = dict(zip(tags, get_n_colors_on_colormap(len(tags))))"
   ]
  },
  {
   "cell_type": "code",
   "execution_count": null,
   "metadata": {
    "collapsed": true
   },
   "outputs": [],
   "source": []
  },
  {
   "cell_type": "code",
   "execution_count": 92,
   "metadata": {
    "collapsed": true
   },
   "outputs": [],
   "source": [
    "def plot_seq_with_tags(seq):\n",
    "    tmplt = '<p>{}</p>'\n",
    "    span_tmlpt = \"\"\"<span style=\"background-color: {color};\">{content}</span>\"\"\"\n",
    "    fulltext = ''\n",
    "    for _word, _pos in seq:\n",
    "        if _pos is not None:\n",
    "            fulltext += span_tmlpt.format(color=tags_to_color_mapping[_pos], content=_word)\n",
    "        else:\n",
    "            fulltext += _word\n",
    "    return HTML(tmplt.format(fulltext))"
   ]
  },
  {
   "cell_type": "code",
   "execution_count": 79,
   "metadata": {
    "collapsed": true
   },
   "outputs": [],
   "source": [
    "def get_tagging_for_text(rando):\n",
    "    analysis = mystem.analyze(rando)\n",
    "    seq = []\n",
    "    for i in analysis:\n",
    "        if 'analysis' in i and i['analysis']:\n",
    "            info = i['analysis'][0]['gr']\n",
    "            pos = info.split(',')[0]\n",
    "            if '=' in pos:\n",
    "                pos = pos.split('=')[0]\n",
    "            seq.append((i['text'],pos))\n",
    "        else:\n",
    "            seq.append((i['text'],None))\n",
    "    return seq"
   ]
  },
  {
   "cell_type": "code",
   "execution_count": 96,
   "metadata": {},
   "outputs": [
    {
     "data": {
      "text/html": [
       "<p><span style=\"background-color: #00b0ff;\">S</span><span style=\"background-color: #0cf4ea;\">SPRO</span><span style=\"background-color: #3fffb7;\">V</span><span style=\"background-color: #73ff83;\">ADVPRO</span><span style=\"background-color: #a6ff4f;\">A</span><span style=\"background-color: #ddff18;\">PR</span><span style=\"background-color: #ffd700;\">ADV</span><span style=\"background-color: #ff9b00;\">APRO</span><span style=\"background-color: #ff5c00;\">CONJ</span><span style=\"background-color: #ff2100;\">NUM</span><span style=\"background-color: #c80000;\">ANUM</span><span style=\"background-color: #7f0000;\">PART</span></p>"
      ],
      "text/plain": [
       "<IPython.core.display.HTML object>"
      ]
     },
     "execution_count": 96,
     "metadata": {},
     "output_type": "execute_result"
    }
   ],
   "source": [
    "plot_seq_with_tags(list(zip(tags,tags)))"
   ]
  },
  {
   "cell_type": "code",
   "execution_count": 94,
   "metadata": {},
   "outputs": [
    {
     "data": {
      "text/html": [
       "<p><span style=\"background-color: #0cf4ea;\">Всем</span> <span style=\"background-color: #00b0ff;\">привет</span>,\n",
       "<span style=\"background-color: #0cf4ea;\">Меня</span> <span style=\"background-color: #3fffb7;\">зовут</span> <span style=\"background-color: #00b0ff;\">Александр</span> (<span style=\"background-color: #00b0ff;\">Саша</span>, <span style=\"background-color: #00b0ff;\">Алекс</span> - <span style=\"background-color: #73ff83;\">как</span> <span style=\"background-color: #3fffb7;\">хотите</span> :slightly_smiling_face:, <span style=\"background-color: #0cf4ea;\">я</span> <span style=\"background-color: #ddff18;\">из</span> <span style=\"background-color: #00b0ff;\">Санкт-Петербурга</span>. <span style=\"background-color: #0cf4ea;\">Я</span> <span style=\"background-color: #3fffb7;\">закончил</span> <span style=\"background-color: #00b0ff;\">факультет</span> <span style=\"background-color: #00b0ff;\">Политологии</span> <span style=\"background-color: #00b0ff;\">МГИМО</span>; <span style=\"background-color: #3fffb7;\">понял</span>, <span style=\"background-color: #ff5c00;\">что</span> <span style=\"background-color: #7f0000;\">не</span> <span style=\"background-color: #3fffb7;\">хватает</span> <span style=\"background-color: #0cf4ea;\">мне</span> <span style=\"background-color: #ddff18;\">в</span> <span style=\"background-color: #00b0ff;\">жизни</span> <span style=\"background-color: #00b0ff;\">математики</span> <span style=\"background-color: #ff5c00;\">и</span> <span style=\"background-color: #a6ff4f;\">количественных</span> <span style=\"background-color: #00b0ff;\">методов</span>, <span style=\"background-color: #ff5c00;\">и</span> <span style=\"background-color: #3fffb7;\">поступил</span> <span style=\"background-color: #ddff18;\">на</span> <span style=\"background-color: #a6ff4f;\">магистерскую</span> <span style=\"background-color: #00b0ff;\">программу</span> <span style=\"background-color: #ddff18;\">по</span> <span style=\"background-color: #a6ff4f;\">Международным</span> <span style=\"background-color: #00b0ff;\">Отношениям</span> <span style=\"background-color: #ddff18;\">в</span> <span style=\"background-color: #00b0ff;\">Университете</span> <span style=\"background-color: #00b0ff;\">Калифорнии</span> (University of California, San Diego) <span style=\"background-color: #ddff18;\">с</span> <span style=\"background-color: #00b0ff;\">фокусом</span> <span style=\"background-color: #ddff18;\">на</span> <span style=\"background-color: #a6ff4f;\">экономическое</span> <span style=\"background-color: #00b0ff;\">развитие</span> (economic development), <span style=\"background-color: #a6ff4f;\">статистический</span> <span style=\"background-color: #00b0ff;\">анализ</span> <span style=\"background-color: #00b0ff;\">эконометрику</span>. <span style=\"background-color: #73ff83;\">Там</span> <span style=\"background-color: #3fffb7;\">работал</span> <span style=\"background-color: #ddff18;\">со</span> Stata, <span style=\"background-color: #ddff18;\">в</span> <span style=\"background-color: #a6ff4f;\">основном</span> <span style=\"background-color: #ddff18;\">в</span> <span style=\"background-color: #00b0ff;\">сфере</span> <span style=\"background-color: #a6ff4f;\">регрессионного</span> <span style=\"background-color: #00b0ff;\">анализа</span> (Time-Series ARIMA models, Impact Evaluation, Randomized Controlled Trials, Regression Discontinuity Design, Propensity-Score Matching etc.). <span style=\"background-color: #73ff83;\">Там</span> <span style=\"background-color: #7f0000;\">же</span> <span style=\"background-color: #3fffb7;\">прошел</span> <span style=\"background-color: #c80000;\">один</span> <span style=\"background-color: #00b0ff;\">курс</span> <span style=\"background-color: #ddff18;\">по</span> Big Data Analytics, <span style=\"background-color: #3fffb7;\">научился</span> <span style=\"background-color: #3fffb7;\">юзать</span> R <span style=\"background-color: #ff5c00;\">и</span> <span style=\"background-color: #3fffb7;\">работать</span> <span style=\"background-color: #ddff18;\">с</span> <span style=\"background-color: #00b0ff;\">текстом</span>. \n",
       "<span style=\"background-color: #ffd700;\">Сейчас</span> <span style=\"background-color: #3fffb7;\">работаю</span> <span style=\"background-color: #ddff18;\">в</span> <span style=\"background-color: #00b0ff;\">должности</span> Data Analyst <span style=\"background-color: #ddff18;\">в</span> <span style=\"background-color: #00b0ff;\">стартапе</span> <span style=\"background-color: #ddff18;\">в</span> <span style=\"background-color: #00b0ff;\">Нью-Йорке</span>: <span style=\"background-color: #ddff18;\">в</span> <span style=\"background-color: #00b0ff;\">основном</span> <span style=\"background-color: #3fffb7;\">работаю</span> <span style=\"background-color: #ddff18;\">с</span> <span style=\"background-color: #00b0ff;\">текстом</span> <span style=\"background-color: #ddff18;\">из</span> <span style=\"background-color: #a6ff4f;\">социальных</span> <span style=\"background-color: #00b0ff;\">медиа</span>, <span style=\"background-color: #3fffb7;\">использую</span> <span style=\"background-color: #00b0ff;\">дорогой</span> <span style=\"background-color: #ff5c00;\">и</span> <span style=\"background-color: #3fffb7;\">полюбившейся</span> <span style=\"background-color: #0cf4ea;\">мне</span> Python. <span style=\"background-color: #ffd700;\">Иногда</span> <span style=\"background-color: #3fffb7;\">есть</span> <span style=\"background-color: #00b0ff;\">проектики</span> <span style=\"background-color: #ddff18;\">по</span> Social Network Analysis <span style=\"background-color: #ff5c00;\">и</span> Supervised Learning Algorithms. <span style=\"background-color: #ddff18;\">На</span> <span style=\"background-color: #00b0ff;\">стороне</span> <span style=\"background-color: #3fffb7;\">стараюсь</span> <span style=\"background-color: #3fffb7;\">наверстать</span> <span style=\"background-color: #00b0ff;\">пробелы</span> <span style=\"background-color: #ddff18;\">в</span> <span style=\"background-color: #00b0ff;\">знаниях</span> <span style=\"background-color: #ddff18;\">в</span> Data Science c <span style=\"background-color: #00b0ff;\">помощью</span> <span style=\"background-color: #ffd700;\">онлайн</span> <span style=\"background-color: #00b0ff;\">курсов</span> (Coursera, Udacity, Udemy, edX, DataCamp) <span style=\"background-color: #ff5c00;\">или</span> <span style=\"background-color: #00b0ff;\">конференций</span> (<span style=\"background-color: #3fffb7;\">ездил</span> <span style=\"background-color: #ddff18;\">на</span> Open Data Science Conference <span style=\"background-color: #ddff18;\">в</span> <span style=\"background-color: #00b0ff;\">Бостоне</span> <span style=\"background-color: #ddff18;\">в</span> <span style=\"background-color: #a6ff4f;\">прошлом</span> <span style=\"background-color: #00b0ff;\">месяце</span>). <span style=\"background-color: #3fffb7;\">Планирую</span> <span style=\"background-color: #ffd700;\">активнее</span> <span style=\"background-color: #3fffb7;\">участвовать</span> <span style=\"background-color: #ddff18;\">в</span> <span style=\"background-color: #00b0ff;\">соревнованиях</span> Kaggle.\n",
       "<span style=\"background-color: #ffd700;\">Определенно</span> <span style=\"background-color: #7f0000;\">не</span> <span style=\"background-color: #3fffb7;\">хватает</span> <span style=\"background-color: #00b0ff;\">знаний</span> <span style=\"background-color: #ddff18;\">в</span> <span style=\"background-color: #00b0ff;\">сфере</span> <span style=\"background-color: #00b0ff;\">Матанализа</span>, <span style=\"background-color: #a6ff4f;\">Линейной</span> <span style=\"background-color: #00b0ff;\">алгебры</span> <span style=\"background-color: #ff5c00;\">и</span> computer science, <span style=\"background-color: #ff5c00;\">но</span> <span style=\"background-color: #73ff83;\">здесь</span> <span style=\"background-color: #3fffb7;\">прибегаю</span> <span style=\"background-color: #ddff18;\">к</span> <span style=\"background-color: #00b0ff;\">помощи</span> <span style=\"background-color: #a6ff4f;\">всезнающей</span> <@U13C9QU9Z>.\n",
       "<span style=\"background-color: #73ff83;\">Всегда</span> <span style=\"background-color: #a6ff4f;\">рад</span> <span style=\"background-color: #a6ff4f;\">новым</span> <span style=\"background-color: #00b0ff;\">знакомствам</span> in the Data Science world. <span style=\"background-color: #3fffb7;\">Думаю</span>, <span style=\"background-color: #3fffb7;\">смогу</span> <span style=\"background-color: #73ff83;\">здесь</span> (slack) <span style=\"background-color: #0cf4ea;\">многому</span> <span style=\"background-color: #3fffb7;\">научиться</span>, <span style=\"background-color: #ff5c00;\">но</span> <span style=\"background-color: #73ff83;\">всегда</span> <span style=\"background-color: #a6ff4f;\">готов</span> <span style=\"background-color: #3fffb7;\">помочь</span> <span style=\"background-color: #00b0ff;\">советом</span> (<span style=\"background-color: #0cf4ea;\">чем</span> <span style=\"background-color: #3fffb7;\">смогу</span> - <span style=\"background-color: #3fffb7;\">помогу</span>!)\n",
       "<span style=\"background-color: #ddff18;\">В</span> <span style=\"background-color: #a6ff4f;\">общем</span>, <span style=\"background-color: #3fffb7;\">пишите</span> - <span style=\"background-color: #7f0000;\">не</span> <span style=\"background-color: #3fffb7;\">стесняйтесь</span> :wink:\n",
       "</p>"
      ],
      "text/plain": [
       "<IPython.core.display.HTML object>"
      ]
     },
     "execution_count": 94,
     "metadata": {},
     "output_type": "execute_result"
    }
   ],
   "source": [
    "rando = choice(hi_messages)\n",
    "seq = get_tagging_for_text(rando)\n",
    "plot_seq_with_tags(seq)"
   ]
  },
  {
   "cell_type": "code",
   "execution_count": 97,
   "metadata": {
    "collapsed": true
   },
   "outputs": [],
   "source": [
    "from operator import itemgetter"
   ]
  },
  {
   "cell_type": "code",
   "execution_count": 100,
   "metadata": {},
   "outputs": [
    {
     "data": {
      "text/plain": [
       "Counter({'SPRO': 8,\n",
       "         None: 290,\n",
       "         'S': 47,\n",
       "         'V': 31,\n",
       "         'ADVPRO': 7,\n",
       "         'PR': 29,\n",
       "         'CONJ': 10,\n",
       "         'PART': 4,\n",
       "         'A': 15,\n",
       "         'ANUM': 1,\n",
       "         'ADV': 5})"
      ]
     },
     "execution_count": 100,
     "metadata": {},
     "output_type": "execute_result"
    }
   ],
   "source": [
    "Counter(map(itemgetter(1), seq))"
   ]
  },
  {
   "cell_type": "code",
   "execution_count": null,
   "metadata": {
    "collapsed": true
   },
   "outputs": [],
   "source": []
  },
  {
   "cell_type": "code",
   "execution_count": null,
   "metadata": {
    "collapsed": true
   },
   "outputs": [],
   "source": []
  },
  {
   "cell_type": "code",
   "execution_count": null,
   "metadata": {
    "collapsed": true
   },
   "outputs": [],
   "source": []
  }
 ],
 "metadata": {
  "kernelspec": {
   "display_name": "Python 3",
   "language": "python",
   "name": "python3"
  },
  "language_info": {
   "codemirror_mode": {
    "name": "ipython",
    "version": 3
   },
   "file_extension": ".py",
   "mimetype": "text/x-python",
   "name": "python",
   "nbconvert_exporter": "python",
   "pygments_lexer": "ipython3",
   "version": "3.6.1"
  }
 },
 "nbformat": 4,
 "nbformat_minor": 2
}
