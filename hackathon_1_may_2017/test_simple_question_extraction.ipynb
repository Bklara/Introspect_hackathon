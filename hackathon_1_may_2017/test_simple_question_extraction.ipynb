{
 "cells": [
  {
   "cell_type": "code",
   "execution_count": 1,
   "metadata": {
    "collapsed": true
   },
   "outputs": [],
   "source": [
    "from slack_data_loader import SlackLoader\n",
    "import datetime\n",
    "import pandas as pd\n",
    "import numpy as np\n",
    "import re\n",
    "from operator import itemgetter"
   ]
  },
  {
   "cell_type": "code",
   "execution_count": 3,
   "metadata": {
    "collapsed": true
   },
   "outputs": [],
   "source": [
    "path_to_dump = './opendatascience Slack export May 20 2017/'"
   ]
  },
  {
   "cell_type": "code",
   "execution_count": 4,
   "metadata": {},
   "outputs": [],
   "source": [
    "exporter = SlackLoader(path_to_dump, only_channels=('deep_learning',),\n",
    "                           start_date=datetime.datetime(2017, 1, 1))"
   ]
  },
  {
   "cell_type": "code",
   "execution_count": 5,
   "metadata": {},
   "outputs": [
    {
     "name": "stdout",
     "output_type": "stream",
     "text": [
      "Loaded 7540 messages\n"
     ]
    }
   ],
   "source": [
    "print(\"Loaded {} messages\".format(len(exporter.messages)))"
   ]
  },
  {
   "cell_type": "code",
   "execution_count": 6,
   "metadata": {
    "collapsed": true
   },
   "outputs": [],
   "source": [
    "channel_attrs = ['id', 'name', 'created', 'creator', 'is_archived', 'is_general', 'pins', 'topic']\n",
    "\n",
    "def channels_to_df(channels):\n",
    "    full_list = []\n",
    "    for ch_id, ch_dict in channels.items():\n",
    "        new_channel_dict = {}\n",
    "        for k in channel_attrs:\n",
    "            new_channel_dict[k] = ch_dict.get(k, None)\n",
    "        new_channel_dict['num_members'] = len(ch_dict['members'])\n",
    "        new_channel_dict['purpose'] = ch_dict['purpose']['value']\n",
    "        full_list.append(new_channel_dict)\n",
    "    return pd.DataFrame(full_list).set_index('id')\n"
   ]
  },
  {
   "cell_type": "code",
   "execution_count": 7,
   "metadata": {},
   "outputs": [
    {
     "data": {
      "text/html": [
       "<div>\n",
       "<style>\n",
       "    .dataframe thead tr:only-child th {\n",
       "        text-align: right;\n",
       "    }\n",
       "\n",
       "    .dataframe thead th {\n",
       "        text-align: left;\n",
       "    }\n",
       "\n",
       "    .dataframe tbody tr th {\n",
       "        vertical-align: top;\n",
       "    }\n",
       "</style>\n",
       "<table border=\"1\" class=\"dataframe\">\n",
       "  <thead>\n",
       "    <tr style=\"text-align: right;\">\n",
       "      <th></th>\n",
       "      <th>created</th>\n",
       "      <th>creator</th>\n",
       "      <th>is_archived</th>\n",
       "      <th>is_general</th>\n",
       "      <th>name</th>\n",
       "      <th>num_members</th>\n",
       "      <th>pins</th>\n",
       "      <th>purpose</th>\n",
       "      <th>topic</th>\n",
       "    </tr>\n",
       "    <tr>\n",
       "      <th>id</th>\n",
       "      <th></th>\n",
       "      <th></th>\n",
       "      <th></th>\n",
       "      <th></th>\n",
       "      <th></th>\n",
       "      <th></th>\n",
       "      <th></th>\n",
       "      <th></th>\n",
       "      <th></th>\n",
       "    </tr>\n",
       "  </thead>\n",
       "  <tbody>\n",
       "    <tr>\n",
       "      <th>C2A4GEL6M</th>\n",
       "      <td>1473445368</td>\n",
       "      <td>U04ELQZAU</td>\n",
       "      <td>True</td>\n",
       "      <td>False</td>\n",
       "      <td>alexyashadasha</td>\n",
       "      <td>0</td>\n",
       "      <td>None</td>\n",
       "      <td></td>\n",
       "      <td>{'value': '', 'creator': '', 'last_set': '0'}</td>\n",
       "    </tr>\n",
       "    <tr>\n",
       "      <th>C1P8YT7C7</th>\n",
       "      <td>1467817046</td>\n",
       "      <td>U04URBM8V</td>\n",
       "      <td>False</td>\n",
       "      <td>False</td>\n",
       "      <td>bayesian</td>\n",
       "      <td>307</td>\n",
       "      <td>[{'id': '1467888432.000030', 'type': 'C', 'use...</td>\n",
       "      <td>Church of Bayes: Discussing Bayesian statistic...</td>\n",
       "      <td>{'value': ':bayes:', 'creator': 'U04ELQZAU', '...</td>\n",
       "    </tr>\n",
       "    <tr>\n",
       "      <th>C0804BS5Q</th>\n",
       "      <td>1437511383</td>\n",
       "      <td>U049NHC4X</td>\n",
       "      <td>False</td>\n",
       "      <td>False</td>\n",
       "      <td>big_data</td>\n",
       "      <td>1301</td>\n",
       "      <td>[{'id': '1485303977.000947', 'type': 'C', 'use...</td>\n",
       "      <td>Hadoop, Spark и прочее\\r\\n\\r\\nПолезные материа...</td>\n",
       "      <td>{'value': 'Big Pain in the ...', 'creator': 'U...</td>\n",
       "    </tr>\n",
       "    <tr>\n",
       "      <th>C0MQQT6E6</th>\n",
       "      <td>1455738772</td>\n",
       "      <td>U070Y25AS</td>\n",
       "      <td>False</td>\n",
       "      <td>False</td>\n",
       "      <td>bioinformatics</td>\n",
       "      <td>125</td>\n",
       "      <td>None</td>\n",
       "      <td></td>\n",
       "      <td>{'value': ':bioscience:', 'creator': 'U04ELQZA...</td>\n",
       "    </tr>\n",
       "    <tr>\n",
       "      <th>C115898GZ</th>\n",
       "      <td>1460749144</td>\n",
       "      <td>U04422XJL</td>\n",
       "      <td>True</td>\n",
       "      <td>False</td>\n",
       "      <td>blackoxchallenge</td>\n",
       "      <td>0</td>\n",
       "      <td>None</td>\n",
       "      <td></td>\n",
       "      <td>{'value': '', 'creator': '', 'last_set': '0'}</td>\n",
       "    </tr>\n",
       "  </tbody>\n",
       "</table>\n",
       "</div>"
      ],
      "text/plain": [
       "              created    creator  is_archived  is_general              name  \\\n",
       "id                                                                            \n",
       "C2A4GEL6M  1473445368  U04ELQZAU         True       False    alexyashadasha   \n",
       "C1P8YT7C7  1467817046  U04URBM8V        False       False          bayesian   \n",
       "C0804BS5Q  1437511383  U049NHC4X        False       False          big_data   \n",
       "C0MQQT6E6  1455738772  U070Y25AS        False       False    bioinformatics   \n",
       "C115898GZ  1460749144  U04422XJL         True       False  blackoxchallenge   \n",
       "\n",
       "           num_members                                               pins  \\\n",
       "id                                                                          \n",
       "C2A4GEL6M            0                                               None   \n",
       "C1P8YT7C7          307  [{'id': '1467888432.000030', 'type': 'C', 'use...   \n",
       "C0804BS5Q         1301  [{'id': '1485303977.000947', 'type': 'C', 'use...   \n",
       "C0MQQT6E6          125                                               None   \n",
       "C115898GZ            0                                               None   \n",
       "\n",
       "                                                     purpose  \\\n",
       "id                                                             \n",
       "C2A4GEL6M                                                      \n",
       "C1P8YT7C7  Church of Bayes: Discussing Bayesian statistic...   \n",
       "C0804BS5Q  Hadoop, Spark и прочее\\r\\n\\r\\nПолезные материа...   \n",
       "C0MQQT6E6                                                      \n",
       "C115898GZ                                                      \n",
       "\n",
       "                                                       topic  \n",
       "id                                                            \n",
       "C2A4GEL6M      {'value': '', 'creator': '', 'last_set': '0'}  \n",
       "C1P8YT7C7  {'value': ':bayes:', 'creator': 'U04ELQZAU', '...  \n",
       "C0804BS5Q  {'value': 'Big Pain in the ...', 'creator': 'U...  \n",
       "C0MQQT6E6  {'value': ':bioscience:', 'creator': 'U04ELQZA...  \n",
       "C115898GZ      {'value': '', 'creator': '', 'last_set': '0'}  "
      ]
     },
     "execution_count": 7,
     "metadata": {},
     "output_type": "execute_result"
    }
   ],
   "source": [
    "df = channels_to_df(exporter.channels)\n",
    "df.head()"
   ]
  },
  {
   "cell_type": "code",
   "execution_count": 41,
   "metadata": {},
   "outputs": [],
   "source": [
    "qwords = (\"как\", \"какой\", \"зачем\", \"почему\", \"когда\", \"кто\", \"где\", \"когда\", \"куда\", \"чот\")\n",
    "splitter = re.compile(r\"(?<!\\w\\.\\w.)(?<![A-Z][a-z]\\.)(?<=\\.|\\?)\\s\")\n",
    "\n",
    "import pymorphy2\n",
    "morph = pymorphy2.MorphAnalyzer()\n",
    "\n",
    "def lemm(st):\n",
    "    if st == '':\n",
    "        return ''\n",
    "    else:\n",
    "        return morph.parse(st)[0].normal_form\n",
    "\n",
    "def is_question(d):\n",
    "    x = d.lower()\n",
    "    snt = x.split()\n",
    "    num_words = len(snt)\n",
    "    snt = [lemm(w) for w in snt]\n",
    "    #print((num_words > 4) and  any(w in qwords for w in snt), [w in qwords for w in snt])\n",
    "    return (num_words > 4) and any(w in qwords for w in snt)\n",
    "\n",
    "def contains_sentance_with_questions(d):\n",
    "    x = d['text'].lower()\n",
    "    sents = splitter.split(x)\n",
    "    #print(any(map(is_question, sents)))\n",
    "    return any(map(is_question, sents))\n",
    "\n",
    "questions = list(filter(contains_sentance_with_questions, exporter.messages))"
   ]
  },
  {
   "cell_type": "code",
   "execution_count": null,
   "metadata": {},
   "outputs": [],
   "source": [
    "questions = list(filter(contains_sentance_with_questions, exporter.messages))"
   ]
  },
  {
   "cell_type": "code",
   "execution_count": 42,
   "metadata": {},
   "outputs": [
    {
     "name": "stdout",
     "output_type": "stream",
     "text": [
      "found 1255 questions\n"
     ]
    }
   ],
   "source": [
    "print(\"found {} questions\".format(len(questions)))"
   ]
  },
  {
   "cell_type": "code",
   "execution_count": null,
   "metadata": {},
   "outputs": [],
   "source": [
    "for _text in map(itemgetter('text'), questions):\n",
    "    print(_text)\n",
    "    print('-'*40)"
   ]
  },
  {
   "cell_type": "code",
   "execution_count": null,
   "metadata": {
    "collapsed": true
   },
   "outputs": [],
   "source": []
  }
 ],
 "metadata": {
  "kernelspec": {
   "display_name": "Python 3",
   "language": "python",
   "name": "python3"
  },
  "language_info": {
   "codemirror_mode": {
    "name": "ipython",
    "version": 3
   },
   "file_extension": ".py",
   "mimetype": "text/x-python",
   "name": "python",
   "nbconvert_exporter": "python",
   "pygments_lexer": "ipython3",
   "version": "3.6.4"
  }
 },
 "nbformat": 4,
 "nbformat_minor": 2
}
