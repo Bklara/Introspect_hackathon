{
 "cells": [
  {
   "cell_type": "code",
   "execution_count": 1,
   "metadata": {
    "collapsed": true
   },
   "outputs": [],
   "source": [
    "import pandas as pd\n",
    "import numpy as np\n",
    "\n",
    "import artm\n",
    "import json\n",
    "import re\n",
    "\n",
    "import os\n",
    "\n",
    "import nltk\n",
    "from nltk.stem import SnowballStemmer\n",
    "from nltk.corpus import brown\n",
    "\n",
    "from tqdm import tqdm, tqdm_notebook, tqdm_pandas\n",
    "\n",
    "\n",
    "from sklearn.feature_extraction.text import CountVectorizer, TfidfVectorizer"
   ]
  },
  {
   "cell_type": "code",
   "execution_count": 3,
   "metadata": {},
   "outputs": [
    {
     "name": "stderr",
     "output_type": "stream",
     "text": [
      "<input>:8: DeprecationWarning: invalid escape sequence \\w\n",
      "<input>:8: DeprecationWarning: invalid escape sequence \\w\n",
      "<ipython-input-3-e9dd4ed0e002>:8: DeprecationWarning: invalid escape sequence \\w\n",
      "  stem = re.sub('[!@#$:]', '', ' '.join(re.findall('\\w{4,}', str(stem).lower())))\n"
     ]
    }
   ],
   "source": [
    "stemmer = SnowballStemmer('russian')\n",
    "\n",
    "def clean_text(document):\n",
    "    #stem = BeautifulSoup(document, 'xml').get_text()\n",
    "    document = str(document)\n",
    "    stem=[stemmer.stem(w) for w in document.split()]\n",
    "    stem= ' '.join(stem)\n",
    "    stem = re.sub('[!@#$:]', '', ' '.join(re.findall('\\w{4,}', str(stem).lower())))\n",
    "    return(stem)"
   ]
  },
  {
   "cell_type": "code",
   "execution_count": null,
   "metadata": {
    "collapsed": true
   },
   "outputs": [],
   "source": []
  },
  {
   "cell_type": "code",
   "execution_count": 4,
   "metadata": {
    "collapsed": true
   },
   "outputs": [],
   "source": [
    "df = pd.read_csv('../../data/ods_dump/messages.csv')"
   ]
  },
  {
   "cell_type": "code",
   "execution_count": 4,
   "metadata": {},
   "outputs": [
    {
     "data": {
      "text/plain": [
       "(751861, 2)"
      ]
     },
     "execution_count": 4,
     "metadata": {},
     "output_type": "execute_result"
    }
   ],
   "source": [
    "df.shape"
   ]
  },
  {
   "cell_type": "code",
   "execution_count": null,
   "metadata": {
    "collapsed": true
   },
   "outputs": [],
   "source": []
  },
  {
   "cell_type": "code",
   "execution_count": 5,
   "metadata": {
    "collapsed": true
   },
   "outputs": [],
   "source": [
    "df['for_del1']  = df['text'].apply(lambda x:1 if 'channel' in str(x) else 0)"
   ]
  },
  {
   "cell_type": "code",
   "execution_count": 6,
   "metadata": {
    "collapsed": true
   },
   "outputs": [],
   "source": [
    "df['for_del2']  = df['text'].apply(lambda x:1 if 'upload' in str(x) else 0)"
   ]
  },
  {
   "cell_type": "code",
   "execution_count": 7,
   "metadata": {
    "collapsed": true
   },
   "outputs": [],
   "source": [
    "df['for_del3']  = df['text'].apply(lambda x:1 if 'joined' in str(x) else 0)"
   ]
  },
  {
   "cell_type": "code",
   "execution_count": 8,
   "metadata": {
    "collapsed": true
   },
   "outputs": [],
   "source": [
    "df['for_del4']  = df['text'].apply(lambda x:1 if 'added' in str(x) else 0)"
   ]
  },
  {
   "cell_type": "code",
   "execution_count": 9,
   "metadata": {
    "collapsed": true
   },
   "outputs": [],
   "source": [
    "df['for_del'] = df['for_del1'] + df['for_del2'] + df['for_del3'] + df['for_del4']  "
   ]
  },
  {
   "cell_type": "code",
   "execution_count": 10,
   "metadata": {
    "collapsed": true
   },
   "outputs": [],
   "source": [
    "df_clean = df[df['for_del'] == 0][['user', 'text']]"
   ]
  },
  {
   "cell_type": "code",
   "execution_count": 11,
   "metadata": {},
   "outputs": [
    {
     "data": {
      "text/html": [
       "<div>\n",
       "<style>\n",
       "    .dataframe thead tr:only-child th {\n",
       "        text-align: right;\n",
       "    }\n",
       "\n",
       "    .dataframe thead th {\n",
       "        text-align: left;\n",
       "    }\n",
       "\n",
       "    .dataframe tbody tr th {\n",
       "        vertical-align: top;\n",
       "    }\n",
       "</style>\n",
       "<table border=\"1\" class=\"dataframe\">\n",
       "  <thead>\n",
       "    <tr style=\"text-align: right;\">\n",
       "      <th></th>\n",
       "      <th>user</th>\n",
       "      <th>text</th>\n",
       "    </tr>\n",
       "  </thead>\n",
       "  <tbody>\n",
       "    <tr>\n",
       "      <th>0</th>\n",
       "      <td>U1UMQM200</td>\n",
       "      <td>&lt;@U1Z2QA4EM&gt; как избавиться от рекурсии?</td>\n",
       "    </tr>\n",
       "    <tr>\n",
       "      <th>1</th>\n",
       "      <td>U1Z2QA4EM</td>\n",
       "      <td>&lt;@U1UMQM200&gt;: избавиться от искушения - это ка...</td>\n",
       "    </tr>\n",
       "    <tr>\n",
       "      <th>2</th>\n",
       "      <td>U09JEC7V0</td>\n",
       "      <td>&lt;@U1Z2QA4EM&gt; в психотерапию умеешь?</td>\n",
       "    </tr>\n",
       "    <tr>\n",
       "      <th>3</th>\n",
       "      <td>U1Z2QA4EM</td>\n",
       "      <td>&lt;@U09JEC7V0&gt;: ох уж этот реверс в аметисты сос...</td>\n",
       "    </tr>\n",
       "    <tr>\n",
       "      <th>4</th>\n",
       "      <td>U065VP6F7</td>\n",
       "      <td>&lt;@U1Z2QA4EM&gt; может ты у мамки психолог?</td>\n",
       "    </tr>\n",
       "  </tbody>\n",
       "</table>\n",
       "</div>"
      ],
      "text/plain": [
       "        user                                               text\n",
       "0  U1UMQM200           <@U1Z2QA4EM> как избавиться от рекурсии?\n",
       "1  U1Z2QA4EM  <@U1UMQM200>: избавиться от искушения - это ка...\n",
       "2  U09JEC7V0                <@U1Z2QA4EM> в психотерапию умеешь?\n",
       "3  U1Z2QA4EM  <@U09JEC7V0>: ох уж этот реверс в аметисты сос...\n",
       "4  U065VP6F7            <@U1Z2QA4EM> может ты у мамки психолог?"
      ]
     },
     "execution_count": 11,
     "metadata": {},
     "output_type": "execute_result"
    }
   ],
   "source": [
    "df_clean.head()"
   ]
  },
  {
   "cell_type": "code",
   "execution_count": 16,
   "metadata": {
    "collapsed": true
   },
   "outputs": [],
   "source": [
    "#tqdm.pandas()"
   ]
  },
  {
   "cell_type": "code",
   "execution_count": 1,
   "metadata": {
    "collapsed": true
   },
   "outputs": [],
   "source": [
    "#df_clean['stem_text'] = df_clean['text'].progress_apply(lambda x: clean_text(x))"
   ]
  },
  {
   "cell_type": "code",
   "execution_count": 2,
   "metadata": {
    "collapsed": true,
    "scrolled": true
   },
   "outputs": [],
   "source": [
    "#df_clean.to_csv('../../data/ods_dump/clean_message.csv')"
   ]
  },
  {
   "cell_type": "code",
   "execution_count": 3,
   "metadata": {},
   "outputs": [
    {
     "data": {
      "text/html": [
       "<div>\n",
       "<style>\n",
       "    .dataframe thead tr:only-child th {\n",
       "        text-align: right;\n",
       "    }\n",
       "\n",
       "    .dataframe thead th {\n",
       "        text-align: left;\n",
       "    }\n",
       "\n",
       "    .dataframe tbody tr th {\n",
       "        vertical-align: top;\n",
       "    }\n",
       "</style>\n",
       "<table border=\"1\" class=\"dataframe\">\n",
       "  <thead>\n",
       "    <tr style=\"text-align: right;\">\n",
       "      <th></th>\n",
       "      <th>Unnamed: 0</th>\n",
       "      <th>user</th>\n",
       "      <th>text</th>\n",
       "      <th>stem_text</th>\n",
       "    </tr>\n",
       "  </thead>\n",
       "  <tbody>\n",
       "    <tr>\n",
       "      <th>0</th>\n",
       "      <td>0</td>\n",
       "      <td>U1UMQM200</td>\n",
       "      <td>&lt;@U1Z2QA4EM&gt; как избавиться от рекурсии?</td>\n",
       "      <td>u1z2qa4em избав рекурсии</td>\n",
       "    </tr>\n",
       "    <tr>\n",
       "      <th>1</th>\n",
       "      <td>1</td>\n",
       "      <td>U1Z2QA4EM</td>\n",
       "      <td>&lt;@U1UMQM200&gt;: избавиться от искушения - это ка...</td>\n",
       "      <td>u1umqm200 избав искушен контрольн выстрел голов</td>\n",
       "    </tr>\n",
       "    <tr>\n",
       "      <th>2</th>\n",
       "      <td>2</td>\n",
       "      <td>U09JEC7V0</td>\n",
       "      <td>&lt;@U1Z2QA4EM&gt; в психотерапию умеешь?</td>\n",
       "      <td>u1z2qa4em психотерап умеешь</td>\n",
       "    </tr>\n",
       "  </tbody>\n",
       "</table>\n",
       "</div>"
      ],
      "text/plain": [
       "   Unnamed: 0       user                                               text  \\\n",
       "0           0  U1UMQM200           <@U1Z2QA4EM> как избавиться от рекурсии?   \n",
       "1           1  U1Z2QA4EM  <@U1UMQM200>: избавиться от искушения - это ка...   \n",
       "2           2  U09JEC7V0                <@U1Z2QA4EM> в психотерапию умеешь?   \n",
       "\n",
       "                                         stem_text  \n",
       "0                         u1z2qa4em избав рекурсии  \n",
       "1  u1umqm200 избав искушен контрольн выстрел голов  \n",
       "2                      u1z2qa4em психотерап умеешь  "
      ]
     },
     "execution_count": 3,
     "metadata": {},
     "output_type": "execute_result"
    }
   ],
   "source": [
    "df_clean = pd.read_csv('../../data/ods_dump/clean_message.csv')\n",
    "df_clean.head(3)"
   ]
  },
  {
   "cell_type": "code",
   "execution_count": null,
   "metadata": {
    "collapsed": true
   },
   "outputs": [],
   "source": []
  },
  {
   "cell_type": "code",
   "execution_count": null,
   "metadata": {
    "collapsed": true
   },
   "outputs": [],
   "source": []
  }
 ],
 "metadata": {
  "kernelspec": {
   "display_name": "Python 3",
   "language": "python",
   "name": "python3"
  },
  "language_info": {
   "codemirror_mode": {
    "name": "ipython",
    "version": 3
   },
   "file_extension": ".py",
   "mimetype": "text/x-python",
   "name": "python",
   "nbconvert_exporter": "python",
   "pygments_lexer": "ipython3",
   "version": "3.6.3"
  }
 },
 "nbformat": 4,
 "nbformat_minor": 2
}
