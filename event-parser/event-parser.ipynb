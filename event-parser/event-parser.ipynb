{
 "cells": [
  {
   "cell_type": "code",
   "execution_count": 25,
   "metadata": {
    "collapsed": true
   },
   "outputs": [],
   "source": [
    "from urllib.parse import urlparse\n",
    "import requests\n",
    "\n",
    "import scrapy"
   ]
  },
  {
   "cell_type": "code",
   "execution_count": 185,
   "metadata": {},
   "outputs": [],
   "source": [
    "def get_event_json(url):\n",
    "    url_parts = urlparse(url)\n",
    "    host = url_parts.netloc\n",
    "    print(host)\n",
    "    print('---')\n",
    "    page = requests.get(url, headers={'User-Agent': 'Mozilla/5.0 (X11; Ubuntu; Linux x86_64; rv:53.0) Gecko/20100101 Firefox/53.0'})\n",
    "    dom = scrapy.Selector(text=page.content)\n",
    "    if host == 'www.facebook.com':\n",
    "        title = dom.css('#seo_h1_tag ::text').extract_first()\n",
    "        datetime = dom.css('#event_summary').extract()\n",
    "        json = {\n",
    "                'title': title,\n",
    "                'datatime': 'unheard',\n",
    "                'location': 'na kudykinoy gore',\n",
    "                'source': 'facebook'\n",
    "               }\n",
    "    if host == 'events.yandex.ru':\n",
    "        json = {\n",
    "            'title': dom.css('h2.title ::text').extract_first(),\n",
    "            'datetime': dom.css('.event-header__when ::text').extract_first(),\n",
    "            'location': dom.css('.event-header__place ::text').extract_first() + ' Яндекс',\n",
    "            'source': url,\n",
    "            'descripton': dom.css('.b-static-text ::text').extract()\n",
    "        }\n",
    "    if host == 'www.meetup.com':\n",
    "        json = {\n",
    "            'title': dom.css('h1[itemprop=\"name\"] ::text').extract_first().strip(),\n",
    "            'datetime': dom.css('.past-event-info li ::text').extract_first().strip(),\n",
    "            'location': dom.css('.past-event-info li[data-name] ::attr(data-name)').extract_first().strip() + ', ' + dom.css('.past-event-info li[data-name] ::attr(data-address)').extract_first().strip(),\n",
    "            'source': url,\n",
    "            'decription': dom.css('#past-event-description-wrap ::text').extract()\n",
    "        }\n",
    "    if host.endswith('timepad.ru'):\n",
    "        json = {\n",
    "            'title': dom.css('.ep-3-hero__subtitle ::text').extract_first().strip(),\n",
    "            'datetime': dom.css('.ep3-pagesummary__time-begin span ::text').extract_first().replace('\\xa0', ' ').strip(),\n",
    "            'location': dom.css('.ep3-pagesummary__place-city ::text').extract_first().strip() + ', ' + dom.css('.ep3-pagesummary__place-adress span ::text').extract_first().strip(),\n",
    "            'source': url,\n",
    "            'description': dom.css('.ep3-content .clearfix p ::text').extract()\n",
    "        }\n",
    "    return json"
   ]
  }
 ],
 "metadata": {
  "kernelspec": {
   "display_name": "Python 3",
   "language": "python",
   "name": "python3"
  },
  "language_info": {
   "codemirror_mode": {
    "name": "ipython",
    "version": 3
   },
   "file_extension": ".py",
   "mimetype": "text/x-python",
   "name": "python",
   "nbconvert_exporter": "python",
   "pygments_lexer": "ipython3",
   "version": "3.5.2"
  }
 },
 "nbformat": 4,
 "nbformat_minor": 2
}
