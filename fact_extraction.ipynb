{
 "cells": [
  {
   "cell_type": "code",
   "execution_count": 46,
   "metadata": {},
   "outputs": [],
   "source": [
    "import json\n",
    "import glob\n",
    "import os\n",
    "import datetime\n",
    "import re\n",
    "import pandas as pd\n",
    "from slack_export import SlackExport, normalize_links\n",
    "import subprocess"
   ]
  },
  {
   "cell_type": "code",
   "execution_count": 2,
   "metadata": {},
   "outputs": [],
   "source": [
    "data_folder = './ODS_dump_Mar_10_2017'\n",
    "ods = SlackExport(data_folder)"
   ]
  },
  {
   "cell_type": "code",
   "execution_count": 3,
   "metadata": {},
   "outputs": [
    {
     "data": {
      "text/plain": [
       "type     subtype          \n",
       "message  0                    301495\n",
       "         bot_add                  11\n",
       "         bot_message            2582\n",
       "         bot_remove                6\n",
       "         channel_archive          27\n",
       "         channel_join          61056\n",
       "         channel_leave          2564\n",
       "         channel_name             39\n",
       "         channel_purpose          83\n",
       "         channel_topic           141\n",
       "         channel_unarchive         1\n",
       "         file_comment            396\n",
       "         file_mention             53\n",
       "         file_share             3189\n",
       "         me_message                8\n",
       "         pinned_item             380\n",
       "         reminder_add              8\n",
       "         reply_broadcast         184\n",
       "         sh_room_created           1\n",
       "         tombstone                33\n",
       "Name: dt, dtype: int64"
      ]
     },
     "execution_count": 3,
     "metadata": {},
     "output_type": "execute_result"
    }
   ],
   "source": [
    "df_msg = pd.DataFrame.from_records(ods.messages)\n",
    "df_msg.fillna(0).groupby(['type', 'subtype'])['dt'].count()"
   ]
  },
  {
   "cell_type": "code",
   "execution_count": 4,
   "metadata": {},
   "outputs": [
    {
     "data": {
      "text/plain": [
       "array([u'channel_join', nan, u'channel_leave', u'file_share',\n",
       "       u'channel_topic', u'file_comment', u'pinned_item',\n",
       "       u'reply_broadcast', u'file_mention', u'channel_purpose',\n",
       "       u'channel_name', u'bot_add', u'bot_remove', u'me_message',\n",
       "       u'channel_archive', u'bot_message', u'reminder_add',\n",
       "       u'sh_room_created', u'tombstone', u'channel_unarchive'], dtype=object)"
      ]
     },
     "execution_count": 4,
     "metadata": {},
     "output_type": "execute_result"
    }
   ],
   "source": [
    "df_msg.subtype.unique()"
   ]
  },
  {
   "cell_type": "code",
   "execution_count": 5,
   "metadata": {
    "collapsed": true
   },
   "outputs": [],
   "source": [
    "# %load slack_export.py\n",
    "import json\n",
    "import glob\n",
    "import os\n",
    "import datetime\n",
    "import re\n",
    "\n",
    "\n",
    "def _read_json_dict(filename, key='id'):\n",
    "    with open(filename) as fin:\n",
    "        records = json.load(fin)\n",
    "        json_dict = {\n",
    "            record[key]: record\n",
    "            for record in records\n",
    "        }\n",
    "    return json_dict\n",
    "\n",
    "\n",
    "class SlackExport(object):\n",
    "    def __init__(self, export_path):\n",
    "        self.load_export(export_path)\n",
    "\n",
    "    def load_export(self, export_path):\n",
    "        self.channels = _read_json_dict(os.path.join(export_path, 'channels.json'))\n",
    "        self.users = _read_json_dict(os.path.join(export_path, 'users.json'))\n",
    "        self.messages = []\n",
    "        for channel_id, channel in self.channels.iteritems():\n",
    "            messages_glob = os.path.join(export_path, channel['name'], '*.json')\n",
    "            for messages_filename in glob.glob(messages_glob):\n",
    "                with open(messages_filename) as f_messages:\n",
    "                    for record in json.load(f_messages):\n",
    "                        if 'ts' in record:\n",
    "                            record['ts'] = float(record['ts'])\n",
    "                            record['dt'] = datetime.datetime.fromtimestamp(record['ts'])\n",
    "                        record['channel'] = channel_id\n",
    "                        self.messages.append(record)\n",
    "\n",
    "re_slack_link = re.compile(r'(?P<all><(?P<id>[^\\|]*)(\\|(?P<title>[^>]*))?>)')\n",
    "\n",
    "def _extract_slack_link_id(m):\n",
    "    return m.group('id')\n",
    "\n",
    "def normalize_links(text):\n",
    "    return re_slack_link.sub(_extract_slack_link_id, text)"
   ]
  },
  {
   "cell_type": "code",
   "execution_count": 6,
   "metadata": {
    "collapsed": true
   },
   "outputs": [],
   "source": [
    "class WelcomeExport(object):\n",
    "    def __init__(self, export_path):\n",
    "        self.load_export(export_path)\n",
    "\n",
    "    def load_export(self, export_path):\n",
    "        self.users = _read_json_dict(os.path.join(export_path, 'users.json'))\n",
    "        self.messages = []\n",
    "        messages_glob = os.path.join(export_path, 'welcome', '*.json')\n",
    "        for messages_filename in glob.glob(messages_glob):\n",
    "            with open(messages_filename) as f_messages:\n",
    "                for record in json.load(f_messages):\n",
    "                    if 'ts' in record:\n",
    "                        record['ts'] = float(record['ts'])\n",
    "                        record['dt'] = datetime.datetime.fromtimestamp(record['ts'])\n",
    "                    record['channel'] = 'welcome'\n",
    "                    self.messages.append(record)\n"
   ]
  },
  {
   "cell_type": "code",
   "execution_count": 7,
   "metadata": {
    "collapsed": true
   },
   "outputs": [],
   "source": [
    "ods = WelcomeExport(data_folder)"
   ]
  },
  {
   "cell_type": "code",
   "execution_count": 8,
   "metadata": {},
   "outputs": [
    {
     "data": {
      "text/plain": [
       "type     subtype        \n",
       "message  0                  3214\n",
       "         channel_join       2987\n",
       "         channel_leave        95\n",
       "         channel_purpose       1\n",
       "         channel_topic         1\n",
       "         file_share            4\n",
       "         reply_broadcast       1\n",
       "         tombstone             2\n",
       "Name: dt, dtype: int64"
      ]
     },
     "execution_count": 8,
     "metadata": {},
     "output_type": "execute_result"
    }
   ],
   "source": [
    "df_msg = pd.DataFrame.from_records(ods.messages)\n",
    "df_msg.fillna(0).groupby(['type', 'subtype'])['dt'].count()"
   ]
  },
  {
   "cell_type": "code",
   "execution_count": 9,
   "metadata": {},
   "outputs": [
    {
     "name": "stdout",
     "output_type": "stream",
     "text": [
      "Всем привет. Меня зовут Артём, я закончил Иркутский политех по специальности радиотехника. Сейчас я аспирант, занимаюсь обработкой сигналов атмосферных радаров. Недавно заинтересовался машинным обучением, прошел курс Andrew Ng, сейчас прохожу курс от Яндекса и МФТИ на курсере. Поражает количество практических задач, которые позволяет решать data science, поэтому я здесь.\n"
     ]
    }
   ],
   "source": [
    "print df_msg[df_msg.subtype.isnull()].text[4]"
   ]
  },
  {
   "cell_type": "markdown",
   "metadata": {},
   "source": [
    "Вытащим сообщения-представления"
   ]
  },
  {
   "cell_type": "code",
   "execution_count": 10,
   "metadata": {},
   "outputs": [],
   "source": [
    "k = 0\n",
    "hi_messages = []\n",
    "hi_tokens=(u'все', u'привет',u'добр',u'шалом',u'салют',u'здрав',u'хай',u'я',u'ребят'u'коллег')\n",
    "for _, i in df_msg[df_msg.subtype.isnull()].iterrows():\n",
    "    if i.text.lower().startswith(hi_tokens) and len(i.text) > 100:\n",
    "        k+=1\n",
    "        hi_messages.append((i.username, i.text))"
   ]
  },
  {
   "cell_type": "code",
   "execution_count": 1,
   "metadata": {
    "scrolled": true
   },
   "outputs": [],
   "source": [
    "for i in hi_messages:\n",
    "    print i[1]\n",
    "    print '='*80"
   ]
  },
  {
   "cell_type": "code",
   "execution_count": 12,
   "metadata": {},
   "outputs": [
    {
     "data": {
      "text/plain": [
       "(612, 3214)"
      ]
     },
     "execution_count": 12,
     "metadata": {},
     "output_type": "execute_result"
    }
   ],
   "source": [
    "k, len(df_msg[df_msg.subtype.isnull()].text)"
   ]
  },
  {
   "cell_type": "markdown",
   "metadata": {},
   "source": [
    "файлы для томиты"
   ]
  },
  {
   "cell_type": "code",
   "execution_count": 83,
   "metadata": {},
   "outputs": [],
   "source": [
    "def create_messages(count):\n",
    "    if not os.path.exists('for_tomita/messages'):\n",
    "        os.makedirs('for_tomita/messages')\n",
    "    for n, i in zip(xrange(len(hi_messages)), hi_messages):\n",
    "        if n < count:\n",
    "            f = open('for_tomita/messages/mes_'+str(n), 'w')\n",
    "            f.write(hi_messages[n][1].encode(\"utf-8\"))\n",
    "            f.close()"
   ]
  },
  {
   "cell_type": "code",
   "execution_count": 85,
   "metadata": {
    "collapsed": true
   },
   "outputs": [],
   "source": [
    "create_messages(10)"
   ]
  },
  {
   "cell_type": "markdown",
   "metadata": {},
   "source": [
    "запуск томита парсера"
   ]
  },
  {
   "cell_type": "code",
   "execution_count": 86,
   "metadata": {},
   "outputs": [],
   "source": [
    "tomita_path = '/tmp/tomita-parser/build/bin/tomita-parser '\n",
    "bash_command = 'cd for_tomita/ && '+ tomita_path + 'config.proto'"
   ]
  },
  {
   "cell_type": "code",
   "execution_count": 87,
   "metadata": {},
   "outputs": [
    {
     "data": {
      "text/plain": [
       "<subprocess.Popen at 0x7f09f99c2550>"
      ]
     },
     "execution_count": 87,
     "metadata": {},
     "output_type": "execute_result"
    }
   ],
   "source": [
    "subprocess.Popen(bash_command, shell=True)"
   ]
  },
  {
   "cell_type": "markdown",
   "metadata": {},
   "source": [
    "факты в файле facts.xml"
   ]
  },
  {
   "cell_type": "markdown",
   "metadata": {},
   "source": [
    "Перевод xml в dataframe"
   ]
  },
  {
   "cell_type": "code",
   "execution_count": 142,
   "metadata": {
    "collapsed": true
   },
   "outputs": [],
   "source": [
    "#TODO перевод в dataframe"
   ]
  },
  {
   "cell_type": "code",
   "execution_count": 95,
   "metadata": {
    "collapsed": true
   },
   "outputs": [],
   "source": [
    "import xml.etree.ElementTree as ET\n",
    "from lxml import etree\n",
    "import pandas as pd\n",
    "\n",
    "xml_data = 'for_tomita/facts.xml'\n"
   ]
  },
  {
   "cell_type": "code",
   "execution_count": 140,
   "metadata": {
    "collapsed": true
   },
   "outputs": [],
   "source": [
    "def xml2df(xml_data):\n",
    "    tree = ET.parse(xml_data)\n",
    "    root = tree.getroot()\n",
    "    print root\n",
    "    all_records = []\n",
    "    headers = []\n",
    "    for i, child in enumerate(root):\n",
    "        print child\n",
    "        record = []\n",
    "        for subchild in child:\n",
    "            if subchild.tag == 'facts':\n",
    "                for fact in subchild.tag:\n",
    "                    print fact\n",
    "                    record.append(fact.val)\n",
    "                    if fact not in headers:\n",
    "                        headers.append(fact)\n",
    "        all_records.append(record)\n",
    "    return pd.DataFrame(all_records, columns=headers)"
   ]
  },
  {
   "cell_type": "code",
   "execution_count": 141,
   "metadata": {},
   "outputs": [
    {
     "name": "stdout",
     "output_type": "stream",
     "text": [
      "<Element 'fdo_objects' at 0x7f0a1d5273d0>\n",
      "<Element 'document' at 0x7f0a0d1c23d0>\n"
     ]
    },
    {
     "ename": "IndexError",
     "evalue": "string index out of range",
     "output_type": "error",
     "traceback": [
      "\u001b[0;31m---------------------------------------------------------------------------\u001b[0m",
      "\u001b[0;31mIndexError\u001b[0m                                Traceback (most recent call last)",
      "\u001b[0;32m<ipython-input-141-7dd95bd67e78>\u001b[0m in \u001b[0;36m<module>\u001b[0;34m()\u001b[0m\n\u001b[0;32m----> 1\u001b[0;31m \u001b[0mdf\u001b[0m \u001b[0;34m=\u001b[0m \u001b[0mxml2df\u001b[0m\u001b[0;34m(\u001b[0m\u001b[0mxml_data\u001b[0m\u001b[0;34m)\u001b[0m\u001b[0;34m\u001b[0m\u001b[0m\n\u001b[0m",
      "\u001b[0;32m<ipython-input-140-736fb410883b>\u001b[0m in \u001b[0;36mxml2df\u001b[0;34m(xml_data)\u001b[0m\n\u001b[1;32m     10\u001b[0m         \u001b[0;32mfor\u001b[0m \u001b[0msubchild\u001b[0m \u001b[0;32min\u001b[0m \u001b[0mchild\u001b[0m\u001b[0;34m:\u001b[0m\u001b[0;34m\u001b[0m\u001b[0m\n\u001b[1;32m     11\u001b[0m             \u001b[0;32mif\u001b[0m \u001b[0msubchild\u001b[0m\u001b[0;34m.\u001b[0m\u001b[0mtag\u001b[0m \u001b[0;34m==\u001b[0m \u001b[0;34m'facts'\u001b[0m\u001b[0;34m:\u001b[0m\u001b[0;34m\u001b[0m\u001b[0m\n\u001b[0;32m---> 12\u001b[0;31m                 \u001b[0;32mprint\u001b[0m \u001b[0msubchild\u001b[0m\u001b[0;34m.\u001b[0m\u001b[0mtag\u001b[0m\u001b[0;34m[\u001b[0m\u001b[0;36m5\u001b[0m\u001b[0;34m]\u001b[0m\u001b[0;34m\u001b[0m\u001b[0m\n\u001b[0m\u001b[1;32m     13\u001b[0m                 \u001b[0;32mfor\u001b[0m \u001b[0mfact\u001b[0m \u001b[0;32min\u001b[0m \u001b[0msubchild\u001b[0m\u001b[0;34m.\u001b[0m\u001b[0mtag\u001b[0m\u001b[0;34m:\u001b[0m\u001b[0;34m\u001b[0m\u001b[0m\n\u001b[1;32m     14\u001b[0m                     \u001b[0;32mprint\u001b[0m \u001b[0mfact\u001b[0m\u001b[0;34m\u001b[0m\u001b[0m\n",
      "\u001b[0;31mIndexError\u001b[0m: string index out of range"
     ]
    }
   ],
   "source": [
    "df = xml2df(xml_data)"
   ]
  },
  {
   "cell_type": "code",
   "execution_count": 107,
   "metadata": {},
   "outputs": [
    {
     "data": {
      "text/html": [
       "<div>\n",
       "<table border=\"1\" class=\"dataframe\">\n",
       "  <thead>\n",
       "    <tr style=\"text-align: right;\">\n",
       "      <th></th>\n",
       "      <th>facts</th>\n",
       "      <th>Leads</th>\n",
       "    </tr>\n",
       "  </thead>\n",
       "  <tbody>\n",
       "    <tr>\n",
       "      <th>0</th>\n",
       "      <td>None</td>\n",
       "      <td>None</td>\n",
       "    </tr>\n",
       "    <tr>\n",
       "      <th>1</th>\n",
       "      <td>None</td>\n",
       "      <td>None</td>\n",
       "    </tr>\n",
       "    <tr>\n",
       "      <th>2</th>\n",
       "      <td>None</td>\n",
       "      <td>None</td>\n",
       "    </tr>\n",
       "    <tr>\n",
       "      <th>3</th>\n",
       "      <td>None</td>\n",
       "      <td>None</td>\n",
       "    </tr>\n",
       "    <tr>\n",
       "      <th>4</th>\n",
       "      <td>None</td>\n",
       "      <td>None</td>\n",
       "    </tr>\n",
       "    <tr>\n",
       "      <th>5</th>\n",
       "      <td>None</td>\n",
       "      <td>None</td>\n",
       "    </tr>\n",
       "    <tr>\n",
       "      <th>6</th>\n",
       "      <td>None</td>\n",
       "      <td>None</td>\n",
       "    </tr>\n",
       "    <tr>\n",
       "      <th>7</th>\n",
       "      <td>None</td>\n",
       "      <td>None</td>\n",
       "    </tr>\n",
       "    <tr>\n",
       "      <th>8</th>\n",
       "      <td>None</td>\n",
       "      <td>None</td>\n",
       "    </tr>\n",
       "    <tr>\n",
       "      <th>9</th>\n",
       "      <td>None</td>\n",
       "      <td>None</td>\n",
       "    </tr>\n",
       "  </tbody>\n",
       "</table>\n",
       "</div>"
      ],
      "text/plain": [
       "  facts Leads\n",
       "0  None  None\n",
       "1  None  None\n",
       "2  None  None\n",
       "3  None  None\n",
       "4  None  None\n",
       "5  None  None\n",
       "6  None  None\n",
       "7  None  None\n",
       "8  None  None\n",
       "9  None  None"
      ]
     },
     "execution_count": 107,
     "metadata": {},
     "output_type": "execute_result"
    }
   ],
   "source": [
    "df"
   ]
  },
  {
   "cell_type": "code",
   "execution_count": 34,
   "metadata": {
    "collapsed": true
   },
   "outputs": [],
   "source": [
    "from lxml import objectify\n",
    "import pandas as pd"
   ]
  },
  {
   "cell_type": "code",
   "execution_count": 36,
   "metadata": {},
   "outputs": [],
   "source": [
    "path = 'for_tomita/facts.xml'\n",
    "xml = objectify.parse(open(path))\n",
    "root = xml.getroot()\n",
    "root.getchildren()[0].getchildren()\n",
    "df = pd.DataFrame(columns=('id', 'name'))\n",
    "\n",
    "for i in range(0,3):\n",
    "    obj = root.getchildren()[i].getchildren()\n",
    "    row = dict(zip(['id', 'name'], [obj[0].text, obj[1].text]))\n",
    "    row_s = pd.Series(row)\n",
    "    row_s.name = i\n",
    "    df = df.append(row_s)"
   ]
  },
  {
   "cell_type": "code",
   "execution_count": 37,
   "metadata": {},
   "outputs": [
    {
     "data": {
      "text/html": [
       "<div>\n",
       "<table border=\"1\" class=\"dataframe\">\n",
       "  <thead>\n",
       "    <tr style=\"text-align: right;\">\n",
       "      <th></th>\n",
       "      <th>id</th>\n",
       "      <th>name</th>\n",
       "    </tr>\n",
       "  </thead>\n",
       "  <tbody>\n",
       "    <tr>\n",
       "      <th>0</th>\n",
       "      <td>None</td>\n",
       "      <td>None</td>\n",
       "    </tr>\n",
       "    <tr>\n",
       "      <th>1</th>\n",
       "      <td>None</td>\n",
       "      <td>None</td>\n",
       "    </tr>\n",
       "    <tr>\n",
       "      <th>2</th>\n",
       "      <td>None</td>\n",
       "      <td>None</td>\n",
       "    </tr>\n",
       "  </tbody>\n",
       "</table>\n",
       "</div>"
      ],
      "text/plain": [
       "     id  name\n",
       "0  None  None\n",
       "1  None  None\n",
       "2  None  None"
      ]
     },
     "execution_count": 37,
     "metadata": {},
     "output_type": "execute_result"
    }
   ],
   "source": [
    "df"
   ]
  },
  {
   "cell_type": "code",
   "execution_count": null,
   "metadata": {
    "collapsed": true
   },
   "outputs": [],
   "source": []
  }
 ],
 "metadata": {
  "kernelspec": {
   "display_name": "Python 2",
   "language": "python",
   "name": "python2"
  },
  "language_info": {
   "codemirror_mode": {
    "name": "ipython",
    "version": 2
   },
   "file_extension": ".py",
   "mimetype": "text/x-python",
   "name": "python",
   "nbconvert_exporter": "python",
   "pygments_lexer": "ipython2",
   "version": "2.7.13"
  }
 },
 "nbformat": 4,
 "nbformat_minor": 2
}
