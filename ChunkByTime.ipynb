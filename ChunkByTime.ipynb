{
 "cells": [
  {
   "cell_type": "code",
   "execution_count": 1,
   "metadata": {
    "collapsed": false
   },
   "outputs": [],
   "source": [
    "import pandas as pd\n",
    "import matplotlib.pyplot as plt\n",
    "import numpy as np"
   ]
  },
  {
   "cell_type": "code",
   "execution_count": 2,
   "metadata": {
    "collapsed": true
   },
   "outputs": [],
   "source": [
    "import os\n",
    "import datetime\n",
    "import time"
   ]
  },
  {
   "cell_type": "code",
   "execution_count": 3,
   "metadata": {
    "collapsed": true
   },
   "outputs": [],
   "source": [
    "import itertools"
   ]
  },
  {
   "cell_type": "code",
   "execution_count": 4,
   "metadata": {
    "collapsed": true
   },
   "outputs": [],
   "source": [
    "from slack_data_loader import SlackLoader"
   ]
  },
  {
   "cell_type": "code",
   "execution_count": 5,
   "metadata": {
    "collapsed": true
   },
   "outputs": [],
   "source": [
    "plt.figure(figsize=(10, 10))\n",
    "SECS_IN_DAY = 60 * 60 * 24"
   ]
  },
  {
   "cell_type": "code",
   "execution_count": 6,
   "metadata": {
    "collapsed": false
   },
   "outputs": [],
   "source": [
    "# this class wrap time by daily activity distribution \n",
    "class TimeDistance:\n",
    "    \n",
    "    def calc_dist(self, times):\n",
    "        day_times = times % SECS_IN_DAY\n",
    "        hist, ranges = np.histogram(day_times, range=(0, SECS_IN_DAY), bins=self.bins)\n",
    "        total_count = hist.sum()\n",
    "        normalized_hist = hist / self.total_count\n",
    "        ranges = ranges.astype(int)[:-1]\n",
    "        dist = dict(zip(ranges, normalized_hist))\n",
    "        mean = normalized_hist.mean()\n",
    "        return (mean, dist)\n",
    "    \n",
    "    \n",
    "    def get_time_range(self, ts):\n",
    "        dt = datetime.datetime.fromtimestamp(ts)\n",
    "        return str(dt.year) + str(int(dt.month / 6))\n",
    "    \n",
    "    def init_distribution(self, times):\n",
    "        # split by years somehow\n",
    "        self.bins = 100\n",
    "        self.time_step = int(SECS_IN_DAY / self.bins)\n",
    "        self.total_count = times.size\n",
    "        \n",
    "        datetimes = map(self.get_time_range, times)\n",
    "        zp = zip(datetimes, times)\n",
    "        grps = itertools.groupby(zp, key=lambda x: x[0])\n",
    "\n",
    "        time_groups = list([ (k, np.array([y for x,y in g]) ) for k,g in grps])\n",
    "        \n",
    "        meanes = []\n",
    "        dists = []\n",
    "        for key, group_times in time_groups:\n",
    "            mean, dist = self.calc_dist(group_times)\n",
    "            meanes.append( (key, mean) )\n",
    "            dists.append( (key, dist) )\n",
    "        \n",
    "        self.dist = dict(dists)\n",
    "        self.mean = dict(meanes)\n",
    "        \n",
    "        return self\n",
    "    \n",
    "    def get_range_start(self, ts):\n",
    "        return int(ts % SECS_IN_DAY / self.time_step) * self.time_step\n",
    "    \n",
    "    def get_dist(self, ts):\n",
    "        curr_range = self.get_range_start(ts)\n",
    "        return self.dist[self.get_time_range(ts)][curr_range]\n",
    "    \n",
    "    def get_mean(self, ts):\n",
    "        return self.mean[self.get_time_range(ts)]\n",
    "        \n",
    "    def distance(self, ts1, ts2):\n",
    "        max_ts = max(ts1, ts2)\n",
    "        min_ts = min(ts1, ts2)\n",
    "        curr = min_ts\n",
    "        dist = 0.0\n",
    "        diff = max_ts - min_ts\n",
    "        if diff > SECS_IN_DAY:\n",
    "            secs = int(diff / SECS_IN_DAY) * SECS_IN_DAY\n",
    "            dist += secs * self.get_mean(curr)\n",
    "            curr += secs\n",
    "        while curr < max_ts:\n",
    "            time_to_next_range = self.time_step - curr % self.time_step\n",
    "            time_to_end = max_ts - curr\n",
    "            min_time = min(time_to_end, time_to_next_range)\n",
    "            curr += min_time\n",
    "            dist += self.get_dist(curr) * min_time\n",
    "        return dist"
   ]
  },
  {
   "cell_type": "code",
   "execution_count": 7,
   "metadata": {
    "collapsed": true
   },
   "outputs": [],
   "source": [
    "class Chunker:\n",
    "    def split_by_threshold(self, difs, threshold):\n",
    "        res = []\n",
    "        start = 0\n",
    "        curr = difs\n",
    "        while len(curr) > 0:\n",
    "            group_len = len(list(itertools.takewhile(lambda x: x < threshold, curr)))\n",
    "            res.append(range(start, start + group_len + 1))\n",
    "            curr = curr[group_len + 1:]\n",
    "            start = start + group_len + 1\n",
    "        return res\n",
    "\n",
    "    def cluster_time_series(self, timeObj, times, threshold = 100.0):\n",
    "        time_difs = np.zeros(times.size - 1)\n",
    "        for i in range(0, times.size - 2):\n",
    "            time_difs[i] = timeObj.distance(times[i], times[i + 1])\n",
    "        chunks = self.split_by_threshold(time_difs, threshold)\n",
    "        return chunks\n"
   ]
  },
  {
   "cell_type": "code",
   "execution_count": null,
   "metadata": {
    "collapsed": false
   },
   "outputs": [],
   "source": []
  },
  {
   "cell_type": "code",
   "execution_count": 8,
   "metadata": {
    "collapsed": false
   },
   "outputs": [],
   "source": [
    "data = SlackLoader('data', only_channels=['nlp'])"
   ]
  },
  {
   "cell_type": "code",
   "execution_count": 9,
   "metadata": {
    "collapsed": false
   },
   "outputs": [
    {
     "data": {
      "image/png": "[encoded data removed]",
      "text/plain": [
       "<matplotlib.figure.Figure at 0x7f296f93acc0>"
      ]
     },
     "metadata": {},
     "output_type": "display_data"
    }
   ],
   "source": [
    "times = np.array(list(map(lambda x: x['ts'], data.messages)))\n",
    "timeObj = TimeDistance().init_distribution(times)\n",
    "chunker = Chunker()\n",
    "\n",
    "\n",
    "length = []\n",
    "thresholds = [400, 350 ,300, 250, 200, 150, 100, 50, 25]\n",
    "for threshold in thresholds:\n",
    "    # [1,2,3,4,105,106,107,108] -(chunking)-> [[0,1,2,3], [4,5,6,7]]\n",
    "    chunks = chunker.cluster_time_series(timeObj, times, threshold)\n",
    "    length.append( np.array(list(map(len, chunks))).mean())\n",
    "\n",
    "\n",
    "plt.plot(thresholds, length)\n",
    "plt.show()"
   ]
  },
  {
   "cell_type": "code",
   "execution_count": 10,
   "metadata": {
    "collapsed": false
   },
   "outputs": [
    {
     "data": {
      "image/png": "[encoded data removed]",
      "text/plain": [
       "<matplotlib.figure.Figure at 0x7f2971d30c88>"
      ]
     },
     "metadata": {},
     "output_type": "display_data"
    }
   ],
   "source": [
    "chunks = chunker.cluster_time_series(timeObj, times, threshold=30)\n",
    "chunk_lengthes = np.array(list(map(len, chunks)))\n",
    "\n",
    "plt.hist(chunk_lengthes, bins=50)\n",
    "plt.show()"
   ]
  },
  {
   "cell_type": "code",
   "execution_count": null,
   "metadata": {
    "collapsed": false
   },
   "outputs": [],
   "source": []
  },
  {
   "cell_type": "code",
   "execution_count": null,
   "metadata": {
    "collapsed": false
   },
   "outputs": [],
   "source": []
  }
 ],
 "metadata": {
  "kernelspec": {
   "display_name": "Python [default]",
   "language": "python",
   "name": "python3"
  },
  "language_info": {
   "codemirror_mode": {
    "name": "ipython",
    "version": 3
   },
   "file_extension": ".py",
   "mimetype": "text/x-python",
   "name": "python",
   "nbconvert_exporter": "python",
   "pygments_lexer": "ipython3",
   "version": "3.5.2"
  }
 },
 "nbformat": 4,
 "nbformat_minor": 2
}
